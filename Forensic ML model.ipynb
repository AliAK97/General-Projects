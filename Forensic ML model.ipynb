{
 "cells": [
  {
   "cell_type": "markdown",
   "id": "35ba1ff2",
   "metadata": {},
   "source": [
    "## Import libraries and the data"
   ]
  },
  {
   "cell_type": "code",
   "execution_count": 1,
   "id": "87579039",
   "metadata": {},
   "outputs": [],
   "source": [
    "import numpy as np\n",
    "import pandas as pd\n",
    "import matplotlib.pyplot as plt\n",
    "import seaborn as sns\n",
    "%matplotlib inline"
   ]
  },
  {
   "cell_type": "code",
   "execution_count": 30,
   "id": "a8c1dc1d",
   "metadata": {},
   "outputs": [],
   "source": [
    "df = pd.read_spss(\"final_data.sav\")"
   ]
  },
  {
   "cell_type": "markdown",
   "id": "ee6d8196",
   "metadata": {},
   "source": [
    "## Take a look at the data"
   ]
  },
  {
   "cell_type": "code",
   "execution_count": 31,
   "id": "8d674fb9",
   "metadata": {},
   "outputs": [
    {
     "data": {
      "text/html": [
       "<div>\n",
       "<style scoped>\n",
       "    .dataframe tbody tr th:only-of-type {\n",
       "        vertical-align: middle;\n",
       "    }\n",
       "\n",
       "    .dataframe tbody tr th {\n",
       "        vertical-align: top;\n",
       "    }\n",
       "\n",
       "    .dataframe thead th {\n",
       "        text-align: right;\n",
       "    }\n",
       "</style>\n",
       "<table border=\"1\" class=\"dataframe\">\n",
       "  <thead>\n",
       "    <tr style=\"text-align: right;\">\n",
       "      <th></th>\n",
       "      <th>name</th>\n",
       "      <th>age</th>\n",
       "      <th>age_group</th>\n",
       "      <th>sex</th>\n",
       "      <th>Mechanism</th>\n",
       "      <th>Injury</th>\n",
       "      <th>Shoulder</th>\n",
       "      <th>Humeros</th>\n",
       "      <th>elbow</th>\n",
       "      <th>forearm</th>\n",
       "      <th>...</th>\n",
       "      <th>Lumbar</th>\n",
       "      <th>shulderinjury</th>\n",
       "      <th>femorshaft</th>\n",
       "      <th>infant</th>\n",
       "      <th>fallstanding</th>\n",
       "      <th>Hand_injury</th>\n",
       "      <th>pelvis</th>\n",
       "      <th>pelvis_injury</th>\n",
       "      <th>knee_injury</th>\n",
       "      <th>foot_ingury</th>\n",
       "    </tr>\n",
       "  </thead>\n",
       "  <tbody>\n",
       "    <tr>\n",
       "      <th>0</th>\n",
       "      <td>9</td>\n",
       "      <td>NaN</td>\n",
       "      <td>NaN</td>\n",
       "      <td>male</td>\n",
       "      <td>MVA</td>\n",
       "      <td>lower</td>\n",
       "      <td>NaN</td>\n",
       "      <td>NaN</td>\n",
       "      <td>NaN</td>\n",
       "      <td>NaN</td>\n",
       "      <td>...</td>\n",
       "      <td>NaN</td>\n",
       "      <td>NaN</td>\n",
       "      <td>NaN</td>\n",
       "      <td>NaN</td>\n",
       "      <td>NaN</td>\n",
       "      <td>بدون اسیب</td>\n",
       "      <td>NaN</td>\n",
       "      <td>بدون اسیب</td>\n",
       "      <td>بدون اسیب</td>\n",
       "      <td>بدون اسیب</td>\n",
       "    </tr>\n",
       "    <tr>\n",
       "      <th>1</th>\n",
       "      <td>10</td>\n",
       "      <td>NaN</td>\n",
       "      <td>NaN</td>\n",
       "      <td>male</td>\n",
       "      <td>fall standing</td>\n",
       "      <td>NaN</td>\n",
       "      <td>NaN</td>\n",
       "      <td>NaN</td>\n",
       "      <td>NaN</td>\n",
       "      <td>NaN</td>\n",
       "      <td>...</td>\n",
       "      <td>NaN</td>\n",
       "      <td>NaN</td>\n",
       "      <td>NaN</td>\n",
       "      <td>NaN</td>\n",
       "      <td>fall standing</td>\n",
       "      <td>بدون اسیب</td>\n",
       "      <td>NaN</td>\n",
       "      <td>بدون اسیب</td>\n",
       "      <td>بدون اسیب</td>\n",
       "      <td>بدون اسیب</td>\n",
       "    </tr>\n",
       "    <tr>\n",
       "      <th>2</th>\n",
       "      <td>7</td>\n",
       "      <td>1.0</td>\n",
       "      <td>0-9</td>\n",
       "      <td>male</td>\n",
       "      <td>direct</td>\n",
       "      <td>up</td>\n",
       "      <td>NaN</td>\n",
       "      <td>NaN</td>\n",
       "      <td>NaN</td>\n",
       "      <td>NaN</td>\n",
       "      <td>...</td>\n",
       "      <td>NaN</td>\n",
       "      <td>NaN</td>\n",
       "      <td>NaN</td>\n",
       "      <td>0-9</td>\n",
       "      <td>NaN</td>\n",
       "      <td>بدون اسیب</td>\n",
       "      <td>NaN</td>\n",
       "      <td>بدون اسیب</td>\n",
       "      <td>بدون اسیب</td>\n",
       "      <td>بدون اسیب</td>\n",
       "    </tr>\n",
       "    <tr>\n",
       "      <th>3</th>\n",
       "      <td>8</td>\n",
       "      <td>1.0</td>\n",
       "      <td>0-9</td>\n",
       "      <td>male</td>\n",
       "      <td>fall standing</td>\n",
       "      <td>NaN</td>\n",
       "      <td>NaN</td>\n",
       "      <td>NaN</td>\n",
       "      <td>supra condyle fx</td>\n",
       "      <td>NaN</td>\n",
       "      <td>...</td>\n",
       "      <td>NaN</td>\n",
       "      <td>NaN</td>\n",
       "      <td>NaN</td>\n",
       "      <td>0-9</td>\n",
       "      <td>fall standing</td>\n",
       "      <td>بدون اسیب</td>\n",
       "      <td>NaN</td>\n",
       "      <td>بدون اسیب</td>\n",
       "      <td>بدون اسیب</td>\n",
       "      <td>بدون اسیب</td>\n",
       "    </tr>\n",
       "    <tr>\n",
       "      <th>4</th>\n",
       "      <td>8</td>\n",
       "      <td>1.0</td>\n",
       "      <td>0-9</td>\n",
       "      <td>male</td>\n",
       "      <td>fall standing</td>\n",
       "      <td>NaN</td>\n",
       "      <td>Dislocate</td>\n",
       "      <td>NaN</td>\n",
       "      <td>NaN</td>\n",
       "      <td>NaN</td>\n",
       "      <td>...</td>\n",
       "      <td>NaN</td>\n",
       "      <td>shulder injury</td>\n",
       "      <td>NaN</td>\n",
       "      <td>0-9</td>\n",
       "      <td>fall standing</td>\n",
       "      <td>بدون اسیب</td>\n",
       "      <td>NaN</td>\n",
       "      <td>بدون اسیب</td>\n",
       "      <td>بدون اسیب</td>\n",
       "      <td>بدون اسیب</td>\n",
       "    </tr>\n",
       "  </tbody>\n",
       "</table>\n",
       "<p>5 rows × 27 columns</p>\n",
       "</div>"
      ],
      "text/plain": [
       "  name  age age_group   sex      Mechanism Injury   Shoulder Humeros  \\\n",
       "0    9  NaN       NaN  male            MVA  lower        NaN     NaN   \n",
       "1   10  NaN       NaN  male  fall standing    NaN        NaN     NaN   \n",
       "2    7  1.0       0-9  male         direct     up        NaN     NaN   \n",
       "3    8  1.0       0-9  male  fall standing    NaN        NaN     NaN   \n",
       "4    8  1.0       0-9  male  fall standing    NaN  Dislocate     NaN   \n",
       "\n",
       "              elbow forearm  ... Lumbar   shulderinjury femorshaft infant  \\\n",
       "0               NaN     NaN  ...    NaN             NaN        NaN    NaN   \n",
       "1               NaN     NaN  ...    NaN             NaN        NaN    NaN   \n",
       "2               NaN     NaN  ...    NaN             NaN        NaN    0-9   \n",
       "3  supra condyle fx     NaN  ...    NaN             NaN        NaN    0-9   \n",
       "4               NaN     NaN  ...    NaN  shulder injury        NaN    0-9   \n",
       "\n",
       "    fallstanding Hand_injury pelvis pelvis_injury knee_injury foot_ingury  \n",
       "0            NaN   بدون اسیب    NaN     بدون اسیب   بدون اسیب   بدون اسیب  \n",
       "1  fall standing   بدون اسیب    NaN     بدون اسیب   بدون اسیب   بدون اسیب  \n",
       "2            NaN   بدون اسیب    NaN     بدون اسیب   بدون اسیب   بدون اسیب  \n",
       "3  fall standing   بدون اسیب    NaN     بدون اسیب   بدون اسیب   بدون اسیب  \n",
       "4  fall standing   بدون اسیب    NaN     بدون اسیب   بدون اسیب   بدون اسیب  \n",
       "\n",
       "[5 rows x 27 columns]"
      ]
     },
     "execution_count": 31,
     "metadata": {},
     "output_type": "execute_result"
    }
   ],
   "source": [
    "df.head()"
   ]
  },
  {
   "cell_type": "code",
   "execution_count": 32,
   "id": "4b2811d5",
   "metadata": {},
   "outputs": [
    {
     "name": "stdout",
     "output_type": "stream",
     "text": [
      "<class 'pandas.core.frame.DataFrame'>\n",
      "RangeIndex: 2480 entries, 0 to 2479\n",
      "Data columns (total 27 columns):\n",
      " #   Column         Non-Null Count  Dtype   \n",
      "---  ------         --------------  -----   \n",
      " 0   name           2480 non-null   object  \n",
      " 1   age            2478 non-null   float64 \n",
      " 2   age_group      2478 non-null   category\n",
      " 3   sex            2480 non-null   category\n",
      " 4   Mechanism      2361 non-null   category\n",
      " 5   Injury         333 non-null    category\n",
      " 6   Shoulder       113 non-null    category\n",
      " 7   Humeros        68 non-null     category\n",
      " 8   elbow          182 non-null    category\n",
      " 9   forearm        233 non-null    category\n",
      " 10  Wrist          333 non-null    category\n",
      " 11  hand           358 non-null    category\n",
      " 12  Femor          142 non-null    category\n",
      " 13  Knee           81 non-null     category\n",
      " 14  Leg            122 non-null    category\n",
      " 15  Foot           300 non-null    category\n",
      " 16  Amputation     47 non-null     category\n",
      " 17  Lumbar         25 non-null     category\n",
      " 18  shulderinjury  113 non-null    category\n",
      " 19  femorshaft     49 non-null     category\n",
      " 20  infant         340 non-null    category\n",
      " 21  fallstanding   1053 non-null   category\n",
      " 22  Hand_injury    2480 non-null   category\n",
      " 23  pelvis         40 non-null     category\n",
      " 24  pelvis_injury  2480 non-null   category\n",
      " 25  knee_injury    2480 non-null   category\n",
      " 26  foot_ingury    2480 non-null   category\n",
      "dtypes: category(25), float64(1), object(1)\n",
      "memory usage: 103.9+ KB\n"
     ]
    }
   ],
   "source": [
    "df.info()"
   ]
  },
  {
   "cell_type": "code",
   "execution_count": 33,
   "id": "c180faed",
   "metadata": {},
   "outputs": [
    {
     "data": {
      "text/plain": [
       "Index(['name', 'age', 'age_group', 'sex', 'Mechanism', 'Injury', 'Shoulder',\n",
       "       'Humeros', 'elbow', 'forearm', 'Wrist', 'hand', 'Femor', 'Knee', 'Leg',\n",
       "       'Foot', 'Amputation', 'Lumbar', 'shulderinjury', 'femorshaft', 'infant',\n",
       "       'fallstanding', 'Hand_injury', 'pelvis', 'pelvis_injury', 'knee_injury',\n",
       "       'foot_ingury'],\n",
       "      dtype='object')"
      ]
     },
     "execution_count": 33,
     "metadata": {},
     "output_type": "execute_result"
    }
   ],
   "source": [
    "df.columns"
   ]
  },
  {
   "cell_type": "markdown",
   "id": "a185cd1e",
   "metadata": {},
   "source": [
    "### Dropping non_complete or repeated columns"
   ]
  },
  {
   "cell_type": "code",
   "execution_count": 34,
   "id": "56a28910",
   "metadata": {},
   "outputs": [],
   "source": [
    "df = df.drop([\"name\",\n",
    "              \"age_group\",\n",
    "              \"Injury\", \n",
    "              \"shulderinjury\", \n",
    "              \"infant\", \n",
    "              \"Hand_injury\",\n",
    "              \"knee_injury\",\n",
    "              \"pelvis_injury\",\n",
    "              \"foot_ingury\",\n",
    "              \"fallstanding\"],\n",
    "              \n",
    "              axis = 1)"
   ]
  },
  {
   "cell_type": "code",
   "execution_count": 35,
   "id": "3aa19027",
   "metadata": {},
   "outputs": [
    {
     "data": {
      "text/html": [
       "<div>\n",
       "<style scoped>\n",
       "    .dataframe tbody tr th:only-of-type {\n",
       "        vertical-align: middle;\n",
       "    }\n",
       "\n",
       "    .dataframe tbody tr th {\n",
       "        vertical-align: top;\n",
       "    }\n",
       "\n",
       "    .dataframe thead th {\n",
       "        text-align: right;\n",
       "    }\n",
       "</style>\n",
       "<table border=\"1\" class=\"dataframe\">\n",
       "  <thead>\n",
       "    <tr style=\"text-align: right;\">\n",
       "      <th></th>\n",
       "      <th>age</th>\n",
       "      <th>sex</th>\n",
       "      <th>Mechanism</th>\n",
       "      <th>Shoulder</th>\n",
       "      <th>Humeros</th>\n",
       "      <th>elbow</th>\n",
       "      <th>forearm</th>\n",
       "      <th>Wrist</th>\n",
       "      <th>hand</th>\n",
       "      <th>Femor</th>\n",
       "      <th>Knee</th>\n",
       "      <th>Leg</th>\n",
       "      <th>Foot</th>\n",
       "      <th>Amputation</th>\n",
       "      <th>Lumbar</th>\n",
       "      <th>femorshaft</th>\n",
       "      <th>pelvis</th>\n",
       "    </tr>\n",
       "  </thead>\n",
       "  <tbody>\n",
       "    <tr>\n",
       "      <th>0</th>\n",
       "      <td>NaN</td>\n",
       "      <td>male</td>\n",
       "      <td>MVA</td>\n",
       "      <td>NaN</td>\n",
       "      <td>NaN</td>\n",
       "      <td>NaN</td>\n",
       "      <td>NaN</td>\n",
       "      <td>NaN</td>\n",
       "      <td>NaN</td>\n",
       "      <td>NaN</td>\n",
       "      <td>NaN</td>\n",
       "      <td>NaN</td>\n",
       "      <td>NaN</td>\n",
       "      <td>NaN</td>\n",
       "      <td>NaN</td>\n",
       "      <td>NaN</td>\n",
       "      <td>NaN</td>\n",
       "    </tr>\n",
       "    <tr>\n",
       "      <th>1</th>\n",
       "      <td>NaN</td>\n",
       "      <td>male</td>\n",
       "      <td>fall standing</td>\n",
       "      <td>NaN</td>\n",
       "      <td>NaN</td>\n",
       "      <td>NaN</td>\n",
       "      <td>NaN</td>\n",
       "      <td>NaN</td>\n",
       "      <td>NaN</td>\n",
       "      <td>NaN</td>\n",
       "      <td>NaN</td>\n",
       "      <td>NaN</td>\n",
       "      <td>NaN</td>\n",
       "      <td>NaN</td>\n",
       "      <td>NaN</td>\n",
       "      <td>NaN</td>\n",
       "      <td>NaN</td>\n",
       "    </tr>\n",
       "    <tr>\n",
       "      <th>2</th>\n",
       "      <td>1.0</td>\n",
       "      <td>male</td>\n",
       "      <td>direct</td>\n",
       "      <td>NaN</td>\n",
       "      <td>NaN</td>\n",
       "      <td>NaN</td>\n",
       "      <td>NaN</td>\n",
       "      <td>NaN</td>\n",
       "      <td>NaN</td>\n",
       "      <td>NaN</td>\n",
       "      <td>NaN</td>\n",
       "      <td>NaN</td>\n",
       "      <td>NaN</td>\n",
       "      <td>NaN</td>\n",
       "      <td>NaN</td>\n",
       "      <td>NaN</td>\n",
       "      <td>NaN</td>\n",
       "    </tr>\n",
       "    <tr>\n",
       "      <th>3</th>\n",
       "      <td>1.0</td>\n",
       "      <td>male</td>\n",
       "      <td>fall standing</td>\n",
       "      <td>NaN</td>\n",
       "      <td>NaN</td>\n",
       "      <td>supra condyle fx</td>\n",
       "      <td>NaN</td>\n",
       "      <td>NaN</td>\n",
       "      <td>NaN</td>\n",
       "      <td>NaN</td>\n",
       "      <td>NaN</td>\n",
       "      <td>NaN</td>\n",
       "      <td>NaN</td>\n",
       "      <td>NaN</td>\n",
       "      <td>NaN</td>\n",
       "      <td>NaN</td>\n",
       "      <td>NaN</td>\n",
       "    </tr>\n",
       "    <tr>\n",
       "      <th>4</th>\n",
       "      <td>1.0</td>\n",
       "      <td>male</td>\n",
       "      <td>fall standing</td>\n",
       "      <td>Dislocate</td>\n",
       "      <td>NaN</td>\n",
       "      <td>NaN</td>\n",
       "      <td>NaN</td>\n",
       "      <td>NaN</td>\n",
       "      <td>NaN</td>\n",
       "      <td>NaN</td>\n",
       "      <td>NaN</td>\n",
       "      <td>NaN</td>\n",
       "      <td>NaN</td>\n",
       "      <td>NaN</td>\n",
       "      <td>NaN</td>\n",
       "      <td>NaN</td>\n",
       "      <td>NaN</td>\n",
       "    </tr>\n",
       "  </tbody>\n",
       "</table>\n",
       "</div>"
      ],
      "text/plain": [
       "   age   sex      Mechanism   Shoulder Humeros             elbow forearm  \\\n",
       "0  NaN  male            MVA        NaN     NaN               NaN     NaN   \n",
       "1  NaN  male  fall standing        NaN     NaN               NaN     NaN   \n",
       "2  1.0  male         direct        NaN     NaN               NaN     NaN   \n",
       "3  1.0  male  fall standing        NaN     NaN  supra condyle fx     NaN   \n",
       "4  1.0  male  fall standing  Dislocate     NaN               NaN     NaN   \n",
       "\n",
       "  Wrist hand Femor Knee  Leg Foot Amputation Lumbar femorshaft pelvis  \n",
       "0   NaN  NaN   NaN  NaN  NaN  NaN        NaN    NaN        NaN    NaN  \n",
       "1   NaN  NaN   NaN  NaN  NaN  NaN        NaN    NaN        NaN    NaN  \n",
       "2   NaN  NaN   NaN  NaN  NaN  NaN        NaN    NaN        NaN    NaN  \n",
       "3   NaN  NaN   NaN  NaN  NaN  NaN        NaN    NaN        NaN    NaN  \n",
       "4   NaN  NaN   NaN  NaN  NaN  NaN        NaN    NaN        NaN    NaN  "
      ]
     },
     "execution_count": 35,
     "metadata": {},
     "output_type": "execute_result"
    }
   ],
   "source": [
    "df.head()"
   ]
  },
  {
   "cell_type": "code",
   "execution_count": 36,
   "id": "9be28cf8",
   "metadata": {},
   "outputs": [],
   "source": [
    "df.dropna(subset=[\"Mechanism\"], inplace = True)\n",
    "df.dropna(subset=[\"age\"], inplace = True)"
   ]
  },
  {
   "cell_type": "code",
   "execution_count": 37,
   "id": "6b5659d5",
   "metadata": {},
   "outputs": [
    {
     "data": {
      "text/plain": [
       "(2359, 17)"
      ]
     },
     "execution_count": 37,
     "metadata": {},
     "output_type": "execute_result"
    }
   ],
   "source": [
    "df.shape"
   ]
  },
  {
   "cell_type": "markdown",
   "id": "cb488072",
   "metadata": {},
   "source": [
    "## Descriptive data"
   ]
  },
  {
   "cell_type": "code",
   "execution_count": 38,
   "id": "3bedff4c",
   "metadata": {},
   "outputs": [],
   "source": [
    "def demograph (df):\n",
    "    for column in df.columns:\n",
    "        if column == \"age\":\n",
    "            pass\n",
    "        else:\n",
    "            print(f\"- column name is: {column}\")\n",
    "            print(df[column].value_counts())\n",
    "            print(df[column].value_counts()/df[column].value_counts().sum())\n",
    "            print(\"--------------\")\n",
    "    return"
   ]
  },
  {
   "cell_type": "code",
   "execution_count": 39,
   "id": "bd697647",
   "metadata": {},
   "outputs": [
    {
     "name": "stdout",
     "output_type": "stream",
     "text": [
      "- column name is: sex\n",
      "male      1815\n",
      "female     544\n",
      "Name: sex, dtype: int64\n",
      "male      0.769394\n",
      "female    0.230606\n",
      "Name: sex, dtype: float64\n",
      "--------------\n",
      "- column name is: Mechanism\n",
      "fall standing          927\n",
      "direct                 533\n",
      "motorcyclists          195\n",
      "fall height            170\n",
      "Others(lacerationa)    125\n",
      "fall stairs            118\n",
      "MVA                     94\n",
      "sport                   92\n",
      "pedestrians             91\n",
      "Cyclists                14\n",
      "Name: Mechanism, dtype: int64\n",
      "fall standing          0.392963\n",
      "direct                 0.225943\n",
      "motorcyclists          0.082662\n",
      "fall height            0.072064\n",
      "Others(lacerationa)    0.052989\n",
      "fall stairs            0.050021\n",
      "MVA                    0.039847\n",
      "sport                  0.039000\n",
      "pedestrians            0.038576\n",
      "Cyclists               0.005935\n",
      "Name: Mechanism, dtype: float64\n",
      "--------------\n",
      "- column name is: Shoulder\n",
      "Dislocate                         98\n",
      "clavicle fx                       10\n",
      "scapula Fx                         2\n",
      "anatomical neck of humerous fx     1\n",
      "greater tuberosity fx              1\n",
      "Name: Shoulder, dtype: int64\n",
      "Dislocate                         0.875000\n",
      "clavicle fx                       0.089286\n",
      "scapula Fx                        0.017857\n",
      "anatomical neck of humerous fx    0.008929\n",
      "greater tuberosity fx             0.008929\n",
      "Name: Shoulder, dtype: float64\n",
      "--------------\n",
      "- column name is: Humeros\n",
      "humerous shaft fx    68\n",
      "Name: Humeros, dtype: int64\n",
      "humerous shaft fx    1.0\n",
      "Name: Humeros, dtype: float64\n",
      "--------------\n",
      "- column name is: elbow\n",
      "supra condyle fx              99\n",
      "olecranon fx                  31\n",
      "lateral condyle fx            23\n",
      "anterior dislocation          10\n",
      "head and neck of radius fx    10\n",
      "medial condyle fx              3\n",
      "medial epicondyle fx           2\n",
      "posterior dislocation          2\n",
      "coronoid process fx            1\n",
      "Name: elbow, dtype: int64\n",
      "supra condyle fx              0.546961\n",
      "olecranon fx                  0.171271\n",
      "lateral condyle fx            0.127072\n",
      "anterior dislocation          0.055249\n",
      "head and neck of radius fx    0.055249\n",
      "medial condyle fx             0.016575\n",
      "medial epicondyle fx          0.011050\n",
      "posterior dislocation         0.011050\n",
      "coronoid process fx           0.005525\n",
      "Name: elbow, dtype: float64\n",
      "--------------\n",
      "- column name is: forearm\n",
      "radius and ulnar fx    131\n",
      "radius shaft fx         56\n",
      "ulnar shaft fx          21\n",
      "monteiia fx             19\n",
      "galezi fx                6\n",
      "Name: forearm, dtype: int64\n",
      "radius and ulnar fx    0.562232\n",
      "radius shaft fx        0.240343\n",
      "ulnar shaft fx         0.090129\n",
      "monteiia fx            0.081545\n",
      "galezi fx              0.025751\n",
      "Name: forearm, dtype: float64\n",
      "--------------\n",
      "- column name is: Wrist\n",
      "distal of radius fx    312\n",
      "scaphoid fx             13\n",
      "lunate fx                4\n",
      "ligament injuries        1\n",
      "Name: Wrist, dtype: int64\n",
      "distal of radius fx    0.945455\n",
      "scaphoid fx            0.039394\n",
      "lunate fx              0.012121\n",
      "ligament injuries      0.003030\n",
      "Name: Wrist, dtype: float64\n",
      "--------------\n",
      "- column name is: hand\n",
      "phalanx fx       247\n",
      "metacarpal fx    110\n",
      "Name: hand, dtype: int64\n",
      "phalanx fx       0.691877\n",
      "metacarpal fx    0.308123\n",
      "Name: hand, dtype: float64\n",
      "--------------\n",
      "- column name is: Femor\n",
      "femoral shaft fx       49\n",
      "neck femoral fx        49\n",
      "intertrochantric fx    32\n",
      "subtrochantric fx       8\n",
      "lateral condyle fx      3\n",
      "medial condyle fx       1\n",
      "Name: Femor, dtype: int64\n",
      "femoral shaft fx       0.345070\n",
      "neck femoral fx        0.345070\n",
      "intertrochantric fx    0.225352\n",
      "subtrochantric fx      0.056338\n",
      "lateral condyle fx     0.021127\n",
      "medial condyle fx      0.007042\n",
      "Name: Femor, dtype: float64\n",
      "--------------\n",
      "- column name is: Knee\n",
      "plateau tibia fx       36\n",
      "ligamental injuries    20\n",
      "platella fx            19\n",
      "Dislocation             6\n",
      "Name: Knee, dtype: int64\n",
      "plateau tibia fx       0.444444\n",
      "ligamental injuries    0.246914\n",
      "platella fx            0.234568\n",
      "Dislocation            0.074074\n",
      "Name: Knee, dtype: float64\n",
      "--------------\n",
      "- column name is: Leg\n",
      "tibia fx               62\n",
      "tibia and fibula fx    55\n",
      "fibula fx               3\n",
      "Name: Leg, dtype: int64\n",
      "tibia fx               0.516667\n",
      "tibia and fibula fx    0.458333\n",
      "fibula fx              0.025000\n",
      "Name: Leg, dtype: float64\n",
      "--------------\n",
      "- column name is: Foot\n",
      "phalynx fx              68\n",
      "calcaneal fx            64\n",
      "bimalleolar fx          61\n",
      "metatarsal fx           41\n",
      "medial malleolar fx     34\n",
      "lateral malleolar fx    10\n",
      "talus fx                10\n",
      "ankle sprain             7\n",
      "other tarsal bone fx     4\n",
      "Name: Foot, dtype: int64\n",
      "phalynx fx              0.227425\n",
      "calcaneal fx            0.214047\n",
      "bimalleolar fx          0.204013\n",
      "metatarsal fx           0.137124\n",
      "medial malleolar fx     0.113712\n",
      "lateral malleolar fx    0.033445\n",
      "talus fx                0.033445\n",
      "ankle sprain            0.023411\n",
      "other tarsal bone fx    0.013378\n",
      "Name: Foot, dtype: float64\n",
      "--------------\n",
      "- column name is: Amputation\n",
      "uper     35\n",
      "lower    12\n",
      "Name: Amputation, dtype: int64\n",
      "uper     0.744681\n",
      "lower    0.255319\n",
      "Name: Amputation, dtype: float64\n",
      "--------------\n",
      "- column name is: Lumbar\n",
      "l1    15\n",
      "L3     6\n",
      "L2     4\n",
      "Name: Lumbar, dtype: int64\n",
      "l1    0.60\n",
      "L3    0.24\n",
      "L2    0.16\n",
      "Name: Lumbar, dtype: float64\n",
      "--------------\n",
      "- column name is: femorshaft\n",
      "femoral shaft fx    49\n",
      "Name: femorshaft, dtype: int64\n",
      "femoral shaft fx    1.0\n",
      "Name: femorshaft, dtype: float64\n",
      "--------------\n",
      "- column name is: pelvis\n",
      "sacral fx                    10\n",
      "acetabular fx                 9\n",
      "symphis of pubis injuries     7\n",
      "sacroiiliac injuries          6\n",
      "anterior dislocation          5\n",
      "Name: pelvis, dtype: int64\n",
      "sacral fx                    0.270270\n",
      "acetabular fx                0.243243\n",
      "symphis of pubis injuries    0.189189\n",
      "sacroiiliac injuries         0.162162\n",
      "anterior dislocation         0.135135\n",
      "Name: pelvis, dtype: float64\n",
      "--------------\n"
     ]
    }
   ],
   "source": [
    "demograph(df)"
   ]
  },
  {
   "cell_type": "code",
   "execution_count": 55,
   "id": "27ccc0ce",
   "metadata": {},
   "outputs": [
    {
     "name": "stdout",
     "output_type": "stream",
     "text": [
      "for age there are 73841.0 instances\n",
      "for sex there are 2359 instances\n",
      "for Mechanism there are 2359 instances\n",
      "for Shoulder there are 112 instances\n",
      "for Humeros there are 68 instances\n",
      "for elbow there are 181 instances\n",
      "for forearm there are 233 instances\n",
      "for Wrist there are 330 instances\n",
      "for hand there are 357 instances\n",
      "for Femor there are 142 instances\n",
      "for Knee there are 81 instances\n",
      "for Leg there are 120 instances\n",
      "for Foot there are 299 instances\n",
      "for Amputation there are 47 instances\n",
      "for Lumbar there are 25 instances\n",
      "for femorshaft there are 49 instances\n",
      "for pelvis there are 37 instances\n"
     ]
    }
   ],
   "source": [
    "for column in df.columns:\n",
    "    if column == \"age\":\n",
    "        x = df[column].sum()\n",
    "    else:\n",
    "        x = df[column].value_counts().sum()\n",
    "    print (f\"for {column} there are {x} instances\")"
   ]
  },
  {
   "cell_type": "code",
   "execution_count": 40,
   "id": "12988952",
   "metadata": {},
   "outputs": [
    {
     "data": {
      "text/plain": [
       "count    2359.000000\n",
       "mean       31.301823\n",
       "std        19.287687\n",
       "min         1.000000\n",
       "25%        16.000000\n",
       "50%        28.000000\n",
       "75%        44.000000\n",
       "max        96.000000\n",
       "Name: age, dtype: float64"
      ]
     },
     "execution_count": 40,
     "metadata": {},
     "output_type": "execute_result"
    }
   ],
   "source": [
    "df.age.describe()"
   ]
  },
  {
   "cell_type": "code",
   "execution_count": 53,
   "id": "4fd22fa8",
   "metadata": {},
   "outputs": [],
   "source": [
    "male_df = df[df['sex'] == 'male']\n",
    "female_df = df[df['sex'] == 'female']"
   ]
  },
  {
   "cell_type": "code",
   "execution_count": 51,
   "id": "c5329d65",
   "metadata": {},
   "outputs": [
    {
     "data": {
      "image/png": "[encoded data removed]",
      "text/plain": [
       "<Figure size 432x288 with 1 Axes>"
      ]
     },
     "metadata": {
      "needs_background": "light"
     },
     "output_type": "display_data"
    }
   ],
   "source": [
    "f = sns.histplot(male_df[\"age\"], kde = False, bins = 50 , color = \"blue\")\n",
    "f.set_ylabel(\"\")\n",
    "f.set_xlabel(\"male age\")\n",
    "plt.show()"
   ]
  },
  {
   "cell_type": "code",
   "execution_count": 52,
   "id": "2a8694c3",
   "metadata": {},
   "outputs": [
    {
     "data": {
      "image/png": "[encoded data removed]",
      "text/plain": [
       "<Figure size 432x288 with 1 Axes>"
      ]
     },
     "metadata": {
      "needs_background": "light"
     },
     "output_type": "display_data"
    }
   ],
   "source": [
    "f = sns.histplot(male_df[\"age\"], kde = False, bins = 50 , color = \"pink\")\n",
    "f.set_ylabel(\"\")\n",
    "f.set_xlabel(\"female age\")\n",
    "plt.show()"
   ]
  },
  {
   "cell_type": "markdown",
   "id": "ea0b4672",
   "metadata": {},
   "source": [
    "### Replace strings with numerical data"
   ]
  },
  {
   "cell_type": "code",
   "execution_count": 10,
   "id": "dc59636a",
   "metadata": {},
   "outputs": [
    {
     "data": {
      "text/plain": [
       "male      1815\n",
       "female     544\n",
       "Name: sex, dtype: int64"
      ]
     },
     "execution_count": 10,
     "metadata": {},
     "output_type": "execute_result"
    }
   ],
   "source": [
    "df[\"sex\"].value_counts()"
   ]
  },
  {
   "cell_type": "code",
   "execution_count": 11,
   "id": "eb42a42a",
   "metadata": {},
   "outputs": [],
   "source": [
    "mapping = {'male':1 , 'female':2}\n",
    "df.sex = df.sex.map(mapping)"
   ]
  },
  {
   "cell_type": "code",
   "execution_count": 12,
   "id": "aa7010b1",
   "metadata": {},
   "outputs": [
    {
     "data": {
      "text/plain": [
       "fall standing          927\n",
       "direct                 533\n",
       "motorcyclists          195\n",
       "fall height            170\n",
       "Others(lacerationa)    125\n",
       "fall stairs            118\n",
       "MVA                     94\n",
       "sport                   92\n",
       "pedestrians             91\n",
       "Cyclists                14\n",
       "Name: Mechanism, dtype: int64"
      ]
     },
     "execution_count": 12,
     "metadata": {},
     "output_type": "execute_result"
    }
   ],
   "source": [
    "df[\"Mechanism\"].value_counts()"
   ]
  },
  {
   "cell_type": "code",
   "execution_count": 13,
   "id": "b5a92893",
   "metadata": {},
   "outputs": [],
   "source": [
    "mapping = {'fall standing':1 , \n",
    "           'direct':2,\n",
    "           'motorcyclists':3,\n",
    "           'fall height':4,\n",
    "           'Others(lacerationa)':5,\n",
    "           'fall stairs':6,\n",
    "           'MVA':7,\n",
    "           'sport':8,\n",
    "           'pedestrians':9,\n",
    "           'Cyclists':10\n",
    "          \n",
    "          }\n",
    "df.Mechanism = df.Mechanism.map(mapping)"
   ]
  },
  {
   "cell_type": "code",
   "execution_count": 14,
   "id": "6c8ee8b5",
   "metadata": {},
   "outputs": [
    {
     "data": {
      "text/plain": [
       "Dislocate                         98\n",
       "clavicle fx                       10\n",
       "scapula Fx                         2\n",
       "anatomical neck of humerous fx     1\n",
       "greater tuberosity fx              1\n",
       "Name: Shoulder, dtype: int64"
      ]
     },
     "execution_count": 14,
     "metadata": {},
     "output_type": "execute_result"
    }
   ],
   "source": [
    "df[\"Shoulder\"].value_counts()"
   ]
  },
  {
   "cell_type": "code",
   "execution_count": 15,
   "id": "5c14f59e",
   "metadata": {},
   "outputs": [],
   "source": [
    "df[\"Shoulder\"] = df[\"Shoulder\"].astype(\"category\")\n",
    "df[\"Shoulder\"] = df[\"Shoulder\"].cat.set_categories(['Dislocate',\n",
    "                                                    'clavicle fx',\n",
    "                                                    'anatomical neck of humerous fx',\n",
    "                                                    'greater tuberosity fx',\n",
    "                                                    'scapula Fx',\n",
    "                                                    'unkown'\n",
    "                                                     ])\n",
    "\n",
    "df.Shoulder.fillna('unkown' , inplace = True)"
   ]
  },
  {
   "cell_type": "code",
   "execution_count": 16,
   "id": "b8682c01",
   "metadata": {},
   "outputs": [],
   "source": [
    "mapping = {'Dislocate':1 , \n",
    "           'clavicle fx':2,\n",
    "           'anatomical neck of humerous fx':3,\n",
    "           'greater tuberosity fx':4,\n",
    "           'scapula Fx':5,\n",
    "           'unkown':0\n",
    "          }\n",
    "\n",
    "df.Shoulder = df.Shoulder.map(mapping)"
   ]
  },
  {
   "cell_type": "code",
   "execution_count": 17,
   "id": "ff4f270a",
   "metadata": {},
   "outputs": [
    {
     "data": {
      "text/plain": [
       "humerous shaft fx    68\n",
       "Name: Humeros, dtype: int64"
      ]
     },
     "execution_count": 17,
     "metadata": {},
     "output_type": "execute_result"
    }
   ],
   "source": [
    "df[\"Humeros\"].value_counts()"
   ]
  },
  {
   "cell_type": "code",
   "execution_count": 18,
   "id": "06bf0ad9",
   "metadata": {},
   "outputs": [],
   "source": [
    "df[\"Humeros\"] = df[\"Humeros\"].astype(\"category\")\n",
    "df[\"Humeros\"] = df[\"Humeros\"].cat.set_categories(['humerous shaft fx',\n",
    "                                                  'no fx'\n",
    "                                                     ])\n",
    "\n",
    "df[\"Humeros\"].fillna('no fx' , inplace = True)"
   ]
  },
  {
   "cell_type": "code",
   "execution_count": 19,
   "id": "43e8eab0",
   "metadata": {},
   "outputs": [],
   "source": [
    "mapping = {'humerous shaft fx':1,\n",
    "           'no fx':0\n",
    "           }\n",
    "\n",
    "df[\"Humeros\"] = df[\"Humeros\"].map(mapping)"
   ]
  },
  {
   "cell_type": "code",
   "execution_count": 20,
   "id": "edc2c9eb",
   "metadata": {},
   "outputs": [
    {
     "data": {
      "text/plain": [
       "supra condyle fx              99\n",
       "olecranon fx                  31\n",
       "lateral condyle fx            23\n",
       "anterior dislocation          10\n",
       "head and neck of radius fx    10\n",
       "medial condyle fx              3\n",
       "medial epicondyle fx           2\n",
       "posterior dislocation          2\n",
       "coronoid process fx            1\n",
       "Name: elbow, dtype: int64"
      ]
     },
     "execution_count": 20,
     "metadata": {},
     "output_type": "execute_result"
    }
   ],
   "source": [
    "df[\"elbow\"].value_counts()"
   ]
  },
  {
   "cell_type": "code",
   "execution_count": 21,
   "id": "e2d31b72",
   "metadata": {},
   "outputs": [],
   "source": [
    "df[\"elbow\"] = df[\"elbow\"].astype(\"category\")\n",
    "df[\"elbow\"] = df[\"elbow\"].cat.set_categories(['supra condyle fx',\n",
    "                                              'olecranon fx',\n",
    "                                              'lateral condyle fx',\n",
    "                                              'anterior dislocation',\n",
    "                                              'head and neck of radius fx',\n",
    "                                              'medial condyle fx',\n",
    "                                              'medial epicondyle fx',\n",
    "                                              'posterior dislocation',\n",
    "                                              'coronoid process fx',\n",
    "                                              'no fx'\n",
    "                                                     ])\n",
    "\n",
    "df[\"elbow\"].fillna('no fx' , inplace = True)"
   ]
  },
  {
   "cell_type": "code",
   "execution_count": 22,
   "id": "66de075d",
   "metadata": {},
   "outputs": [],
   "source": [
    "mapping = {'supra condyle fx':1,\n",
    "           'olecranon fx':2,\n",
    "           'lateral condyle fx' : 3,\n",
    "           'anterior dislocation' : 4,\n",
    "           'head and neck of radius fx' : 5,\n",
    "           'medial condyle fx' : 6,\n",
    "           'medial epicondyle fx' : 7,\n",
    "           'posterior dislocation' : 8,\n",
    "           'coronoid process fx' : 9,\n",
    "           'no fx' : 0\n",
    "    \n",
    "}\n",
    "\n",
    "df[\"elbow\"] = df[\"elbow\"].map(mapping)"
   ]
  },
  {
   "cell_type": "code",
   "execution_count": 23,
   "id": "eae9d93c",
   "metadata": {},
   "outputs": [
    {
     "data": {
      "text/plain": [
       "radius and ulnar fx    131\n",
       "radius shaft fx         56\n",
       "ulnar shaft fx          21\n",
       "monteiia fx             19\n",
       "galezi fx                6\n",
       "Name: forearm, dtype: int64"
      ]
     },
     "execution_count": 23,
     "metadata": {},
     "output_type": "execute_result"
    }
   ],
   "source": [
    "df[\"forearm\"].value_counts()"
   ]
  },
  {
   "cell_type": "code",
   "execution_count": 24,
   "id": "1f17bc97",
   "metadata": {},
   "outputs": [],
   "source": [
    "df[\"forearm\"] = df[\"forearm\"].astype(\"category\")\n",
    "df[\"forearm\"] = df[\"forearm\"].cat.set_categories(['radius and ulnar fx',\n",
    "                                                  'radius shaft fx',\n",
    "                                                  'ulnar shaft fx',\n",
    "                                                  'monteiia fx',\n",
    "                                                  'galezi fx',\n",
    "                                                  'no fx'\n",
    "                                                  ])\n",
    "\n",
    "df[\"forearm\"].fillna('no fx' , inplace = True)"
   ]
  },
  {
   "cell_type": "code",
   "execution_count": 25,
   "id": "fe6861a6",
   "metadata": {},
   "outputs": [],
   "source": [
    "mapping = {'radius and ulnar fx':1,\n",
    "           'radius shaft fx':2,\n",
    "           'ulnar shaft fx' : 3,\n",
    "           'monteiia fx' : 4,\n",
    "           'galezi fx' : 5,\n",
    "           'no fx' : 0    \n",
    "}\n",
    "\n",
    "df[\"forearm\"] = df[\"forearm\"].map(mapping)"
   ]
  },
  {
   "cell_type": "code",
   "execution_count": 26,
   "id": "ea20146c",
   "metadata": {},
   "outputs": [
    {
     "data": {
      "text/plain": [
       "distal of radius fx    312\n",
       "scaphoid fx             13\n",
       "lunate fx                4\n",
       "ligament injuries        1\n",
       "Name: Wrist, dtype: int64"
      ]
     },
     "execution_count": 26,
     "metadata": {},
     "output_type": "execute_result"
    }
   ],
   "source": [
    "df[\"Wrist\"].value_counts()"
   ]
  },
  {
   "cell_type": "code",
   "execution_count": 27,
   "id": "bb96a91c",
   "metadata": {},
   "outputs": [],
   "source": [
    "df[\"Wrist\"] = df[\"Wrist\"].astype(\"category\")\n",
    "df[\"Wrist\"] = df[\"Wrist\"].cat.set_categories(['distal of radius fx',\n",
    "                                              'scaphoid fx',\n",
    "                                              'lunate fx',\n",
    "                                              'ligament injuries',\n",
    "                                              'no fx'\n",
    "                                                  ])\n",
    "\n",
    "df[\"Wrist\"].fillna('no fx' , inplace = True)"
   ]
  },
  {
   "cell_type": "code",
   "execution_count": 28,
   "id": "b411aa77",
   "metadata": {},
   "outputs": [],
   "source": [
    "mapping = {'distal of radius fx':1,\n",
    "           'scaphoid fx':2,\n",
    "           'lunate fx' : 3,\n",
    "           'ligament injuries' : 4,\n",
    "           'no fx' : 0    \n",
    "}\n",
    "\n",
    "df[\"Wrist\"] = df[\"Wrist\"].map(mapping)"
   ]
  },
  {
   "cell_type": "code",
   "execution_count": 29,
   "id": "517ae35e",
   "metadata": {},
   "outputs": [
    {
     "data": {
      "text/plain": [
       "phalanx fx       247\n",
       "metacarpal fx    110\n",
       "Name: hand, dtype: int64"
      ]
     },
     "execution_count": 29,
     "metadata": {},
     "output_type": "execute_result"
    }
   ],
   "source": [
    "df[\"hand\"].value_counts()"
   ]
  },
  {
   "cell_type": "code",
   "execution_count": 30,
   "id": "3042b2f2",
   "metadata": {},
   "outputs": [],
   "source": [
    "df[\"hand\"] = df[\"hand\"].astype(\"category\")\n",
    "df[\"hand\"] = df[\"hand\"].cat.set_categories(['phalanx fx',\n",
    "                                            'metacarpal fx',\n",
    "                                            'no fx'\n",
    "                                                  ])\n",
    "\n",
    "df[\"hand\"].fillna('no fx' , inplace = True)"
   ]
  },
  {
   "cell_type": "code",
   "execution_count": 31,
   "id": "c32a5e7c",
   "metadata": {},
   "outputs": [],
   "source": [
    "mapping = {'phalanx fx':1,\n",
    "           'metacarpal fx':2,\n",
    "           'no fx' : 0    \n",
    "}\n",
    "\n",
    "df[\"hand\"] = df[\"hand\"].map(mapping)"
   ]
  },
  {
   "cell_type": "code",
   "execution_count": 32,
   "id": "019602b1",
   "metadata": {},
   "outputs": [
    {
     "data": {
      "text/plain": [
       "femoral shaft fx       49\n",
       "neck femoral fx        49\n",
       "intertrochantric fx    32\n",
       "subtrochantric fx       8\n",
       "lateral condyle fx      3\n",
       "medial condyle fx       1\n",
       "Name: Femor, dtype: int64"
      ]
     },
     "execution_count": 32,
     "metadata": {},
     "output_type": "execute_result"
    }
   ],
   "source": [
    "df[\"Femor\"].value_counts()"
   ]
  },
  {
   "cell_type": "code",
   "execution_count": 33,
   "id": "e19ac0e8",
   "metadata": {},
   "outputs": [],
   "source": [
    "df[\"Femor\"] = df[\"Femor\"].astype(\"category\")\n",
    "df[\"Femor\"] = df[\"Femor\"].cat.set_categories(['femoral shaft fx',\n",
    "                                              'neck femoral fx',\n",
    "                                              'intertrochantric fx',\n",
    "                                              'subtrochantric fx',\n",
    "                                              'lateral condyle fx',\n",
    "                                              'medial condyle fx',\n",
    "                                              'no fx'\n",
    "                                                     ])\n",
    "\n",
    "df[\"Femor\"].fillna('no fx' , inplace = True)"
   ]
  },
  {
   "cell_type": "code",
   "execution_count": 34,
   "id": "69aa0656",
   "metadata": {},
   "outputs": [],
   "source": [
    "mapping = {'femoral shaft fx':1,\n",
    "           'neck femoral fx':2,\n",
    "           'intertrochantric fx' : 3,\n",
    "           'subtrochantric fx' : 4,\n",
    "           'lateral condyle fx' : 5,\n",
    "           'medial condyle fx' : 6,\n",
    "           'no fx' : 0\n",
    "    \n",
    "}\n",
    "\n",
    "df[\"Femor\"] = df[\"Femor\"].map(mapping)"
   ]
  },
  {
   "cell_type": "code",
   "execution_count": 35,
   "id": "eb58629f",
   "metadata": {},
   "outputs": [
    {
     "data": {
      "text/plain": [
       "plateau tibia fx       36\n",
       "ligamental injuries    20\n",
       "platella fx            19\n",
       "Dislocation             6\n",
       "Name: Knee, dtype: int64"
      ]
     },
     "execution_count": 35,
     "metadata": {},
     "output_type": "execute_result"
    }
   ],
   "source": [
    "df[\"Knee\"].value_counts()"
   ]
  },
  {
   "cell_type": "code",
   "execution_count": 36,
   "id": "707ffb36",
   "metadata": {},
   "outputs": [],
   "source": [
    "df[\"Knee\"] = df[\"Knee\"].astype(\"category\")\n",
    "df[\"Knee\"] = df[\"Knee\"].cat.set_categories(['plateau tibia fx',\n",
    "                                            'ligamental injuries',\n",
    "                                            'platella fx',\n",
    "                                            'Dislocation',\n",
    "                                            'no fx'\n",
    "                                                     ])\n",
    "\n",
    "df[\"Knee\"].fillna('no fx' , inplace = True)"
   ]
  },
  {
   "cell_type": "code",
   "execution_count": 37,
   "id": "e853d8c5",
   "metadata": {},
   "outputs": [],
   "source": [
    "mapping = {'plateau tibia fx':1,\n",
    "           'ligamental injuries':2,\n",
    "           'platella fx' : 3,\n",
    "           'Dislocation' : 4,\n",
    "           'no fx' : 0\n",
    "}\n",
    "\n",
    "df[\"Knee\"] = df[\"Knee\"].map(mapping)"
   ]
  },
  {
   "cell_type": "code",
   "execution_count": 38,
   "id": "a196619a",
   "metadata": {},
   "outputs": [
    {
     "data": {
      "text/plain": [
       "tibia fx               62\n",
       "tibia and fibula fx    55\n",
       "fibula fx               3\n",
       "Name: Leg, dtype: int64"
      ]
     },
     "execution_count": 38,
     "metadata": {},
     "output_type": "execute_result"
    }
   ],
   "source": [
    "df[\"Leg\"].value_counts()"
   ]
  },
  {
   "cell_type": "code",
   "execution_count": 39,
   "id": "462c11df",
   "metadata": {},
   "outputs": [],
   "source": [
    "df[\"Leg\"] = df[\"Leg\"].astype(\"category\")\n",
    "df[\"Leg\"] = df[\"Leg\"].cat.set_categories(['tibia fx',\n",
    "                                          'tibia and fibula fx',\n",
    "                                          'fibula fx',\n",
    "                                          'no fx'\n",
    "                                                     ])\n",
    "\n",
    "df[\"Leg\"].fillna('no fx' , inplace = True)"
   ]
  },
  {
   "cell_type": "code",
   "execution_count": 40,
   "id": "059b575d",
   "metadata": {},
   "outputs": [],
   "source": [
    "mapping = {'tibia fx':1,\n",
    "           'tibia and fibula fx':2,\n",
    "           'fibula fx' : 3,\n",
    "           'no fx' : 0\n",
    "}\n",
    "\n",
    "df[\"Leg\"] = df[\"Leg\"].map(mapping)"
   ]
  },
  {
   "cell_type": "code",
   "execution_count": 41,
   "id": "2ae3d0ca",
   "metadata": {},
   "outputs": [
    {
     "data": {
      "text/plain": [
       "phalynx fx              68\n",
       "calcaneal fx            64\n",
       "bimalleolar fx          61\n",
       "metatarsal fx           41\n",
       "medial malleolar fx     34\n",
       "lateral malleolar fx    10\n",
       "talus fx                10\n",
       "ankle sprain             7\n",
       "other tarsal bone fx     4\n",
       "Name: Foot, dtype: int64"
      ]
     },
     "execution_count": 41,
     "metadata": {},
     "output_type": "execute_result"
    }
   ],
   "source": [
    "df[\"Foot\"].value_counts()"
   ]
  },
  {
   "cell_type": "code",
   "execution_count": 42,
   "id": "adaf1e59",
   "metadata": {},
   "outputs": [],
   "source": [
    "df[\"Foot\"] = df[\"Foot\"].astype(\"category\")\n",
    "df[\"Foot\"] = df[\"Foot\"].cat.set_categories(['phalynx fx',\n",
    "                                              'calcaneal fx',\n",
    "                                              'bimalleolar fx',\n",
    "                                              'metatarsal fx',\n",
    "                                              'medial malleolar fx',\n",
    "                                              'lateral malleolar fx',\n",
    "                                              'talus fx',\n",
    "                                              'ankle sprain',\n",
    "                                              'other tarsal bone fx',\n",
    "                                              'no fx'\n",
    "                                                     ])\n",
    "\n",
    "df[\"Foot\"].fillna('no fx' , inplace = True)"
   ]
  },
  {
   "cell_type": "code",
   "execution_count": 43,
   "id": "d19b0e16",
   "metadata": {},
   "outputs": [],
   "source": [
    "mapping = {'phalynx fx':1,\n",
    "           'calcaneal fx':2,\n",
    "           'bimalleolar fx' : 3,\n",
    "           'metatarsal fx' : 4,\n",
    "           'medial malleolar fx' : 5,\n",
    "           'lateral malleolar fx' : 6,\n",
    "           'talus fx' : 7,\n",
    "           'ankle sprain' : 8,\n",
    "           'other tarsal bone fx' : 9,\n",
    "           'no fx' : 0\n",
    "    \n",
    "}\n",
    "\n",
    "df[\"Foot\"] = df[\"Foot\"].map(mapping)"
   ]
  },
  {
   "cell_type": "code",
   "execution_count": 44,
   "id": "029a8962",
   "metadata": {},
   "outputs": [
    {
     "data": {
      "text/plain": [
       "uper     35\n",
       "lower    12\n",
       "Name: Amputation, dtype: int64"
      ]
     },
     "execution_count": 44,
     "metadata": {},
     "output_type": "execute_result"
    }
   ],
   "source": [
    "df[\"Amputation\"].value_counts()"
   ]
  },
  {
   "cell_type": "code",
   "execution_count": 45,
   "id": "13a71ccd",
   "metadata": {},
   "outputs": [],
   "source": [
    "df[\"Amputation\"] = df[\"Amputation\"].astype(\"category\")\n",
    "df[\"Amputation\"] = df[\"Amputation\"].cat.set_categories(['uper',\n",
    "                                                          'lower',\n",
    "                                                          'no amputation'\n",
    "                                                     ])\n",
    "\n",
    "df[\"Amputation\"].fillna('no amputation' , inplace = True)"
   ]
  },
  {
   "cell_type": "code",
   "execution_count": 46,
   "id": "b4a39ac5",
   "metadata": {},
   "outputs": [],
   "source": [
    "mapping = {'uper':1,\n",
    "           'lower':2,\n",
    "           'no amputation' : 0\n",
    "}\n",
    "\n",
    "df[\"Amputation\"] = df[\"Amputation\"].map(mapping)"
   ]
  },
  {
   "cell_type": "code",
   "execution_count": 47,
   "id": "264b35cd",
   "metadata": {},
   "outputs": [
    {
     "data": {
      "text/plain": [
       "l1    15\n",
       "L3     6\n",
       "L2     4\n",
       "Name: Lumbar, dtype: int64"
      ]
     },
     "execution_count": 47,
     "metadata": {},
     "output_type": "execute_result"
    }
   ],
   "source": [
    "df[\"Lumbar\"].value_counts()"
   ]
  },
  {
   "cell_type": "code",
   "execution_count": 48,
   "id": "e80090c6",
   "metadata": {},
   "outputs": [],
   "source": [
    "df[\"Lumbar\"] = df[\"Lumbar\"].astype(\"category\")\n",
    "df[\"Lumbar\"] = df[\"Lumbar\"].cat.set_categories(['l1',\n",
    "                                                'L2',\n",
    "                                                'L3',\n",
    "                                                'no fx'\n",
    "                                                     ])\n",
    "\n",
    "df[\"Lumbar\"].fillna('no fx' , inplace = True)"
   ]
  },
  {
   "cell_type": "code",
   "execution_count": 49,
   "id": "9e0e152e",
   "metadata": {},
   "outputs": [],
   "source": [
    "mapping = {'l1': 1,\n",
    "           'L2': 1,\n",
    "           'L3': 1,\n",
    "           'no fx' : 0\n",
    "}\n",
    "\n",
    "df[\"Lumbar\"] = df[\"Lumbar\"].map(mapping)"
   ]
  },
  {
   "cell_type": "code",
   "execution_count": 50,
   "id": "651692b1",
   "metadata": {},
   "outputs": [
    {
     "data": {
      "text/plain": [
       "0    2334\n",
       "1      25\n",
       "Name: Lumbar, dtype: int64"
      ]
     },
     "execution_count": 50,
     "metadata": {},
     "output_type": "execute_result"
    }
   ],
   "source": [
    "df[\"Lumbar\"].value_counts()"
   ]
  },
  {
   "cell_type": "code",
   "execution_count": 51,
   "id": "75cbc069",
   "metadata": {},
   "outputs": [
    {
     "data": {
      "text/plain": [
       "femoral shaft fx    49\n",
       "Name: femorshaft, dtype: int64"
      ]
     },
     "execution_count": 51,
     "metadata": {},
     "output_type": "execute_result"
    }
   ],
   "source": [
    "df[\"femorshaft\"].value_counts()"
   ]
  },
  {
   "cell_type": "code",
   "execution_count": 52,
   "id": "1506e9d8",
   "metadata": {},
   "outputs": [],
   "source": [
    "df[\"femorshaft\"] = df[\"femorshaft\"].astype(\"category\")\n",
    "df[\"femorshaft\"] = df[\"femorshaft\"].cat.set_categories(['femoral shaft fx',\n",
    "                                                        'no fx'\n",
    "                                                         ])\n",
    "\n",
    "df[\"femorshaft\"].fillna('no fx' , inplace = True)"
   ]
  },
  {
   "cell_type": "code",
   "execution_count": 53,
   "id": "50ed9453",
   "metadata": {},
   "outputs": [],
   "source": [
    "mapping = {'femoral shaft fx':1,\n",
    "           'no fx' : 0\n",
    "}\n",
    "\n",
    "df[\"femorshaft\"] = df[\"femorshaft\"].map(mapping)"
   ]
  },
  {
   "cell_type": "code",
   "execution_count": 54,
   "id": "c90e180d",
   "metadata": {},
   "outputs": [
    {
     "data": {
      "text/plain": [
       "sacral fx                    10\n",
       "acetabular fx                 9\n",
       "symphis of pubis injuries     7\n",
       "sacroiiliac injuries          6\n",
       "anterior dislocation          5\n",
       "Name: pelvis, dtype: int64"
      ]
     },
     "execution_count": 54,
     "metadata": {},
     "output_type": "execute_result"
    }
   ],
   "source": [
    "df[\"pelvis\"].value_counts()"
   ]
  },
  {
   "cell_type": "code",
   "execution_count": 55,
   "id": "1a210903",
   "metadata": {},
   "outputs": [],
   "source": [
    "df[\"pelvis\"] = df[\"pelvis\"].astype(\"category\")\n",
    "df[\"pelvis\"] = df[\"pelvis\"].cat.set_categories(['sacral fx',\n",
    "                                                'acetabular fx',\n",
    "                                                'symphis of pubis injuries',\n",
    "                                                'sacroiiliac injuries',\n",
    "                                                'anterior dislocation',\n",
    "                                                'no fx'\n",
    "                                                     ])\n",
    "\n",
    "df[\"pelvis\"].fillna('no fx' , inplace = True)"
   ]
  },
  {
   "cell_type": "code",
   "execution_count": 56,
   "id": "82af09fd",
   "metadata": {},
   "outputs": [],
   "source": [
    "mapping = {'sacral fx':1,\n",
    "           'acetabular fx':1,\n",
    "           'symphis of pubis injuries':1,\n",
    "           'sacroiiliac injuries':1,\n",
    "           'anterior dislocation':0,\n",
    "           'no fx' : 0\n",
    "}\n",
    "\n",
    "df[\"pelvis\"] = df[\"pelvis\"].map(mapping)"
   ]
  },
  {
   "cell_type": "code",
   "execution_count": 57,
   "id": "744a00a9",
   "metadata": {},
   "outputs": [
    {
     "data": {
      "text/html": [
       "<div>\n",
       "<style scoped>\n",
       "    .dataframe tbody tr th:only-of-type {\n",
       "        vertical-align: middle;\n",
       "    }\n",
       "\n",
       "    .dataframe tbody tr th {\n",
       "        vertical-align: top;\n",
       "    }\n",
       "\n",
       "    .dataframe thead th {\n",
       "        text-align: right;\n",
       "    }\n",
       "</style>\n",
       "<table border=\"1\" class=\"dataframe\">\n",
       "  <thead>\n",
       "    <tr style=\"text-align: right;\">\n",
       "      <th></th>\n",
       "      <th>age</th>\n",
       "      <th>sex</th>\n",
       "      <th>Mechanism</th>\n",
       "      <th>Shoulder</th>\n",
       "      <th>Humeros</th>\n",
       "      <th>elbow</th>\n",
       "      <th>forearm</th>\n",
       "      <th>Wrist</th>\n",
       "      <th>hand</th>\n",
       "      <th>Femor</th>\n",
       "      <th>Knee</th>\n",
       "      <th>Leg</th>\n",
       "      <th>Foot</th>\n",
       "      <th>Amputation</th>\n",
       "      <th>Lumbar</th>\n",
       "      <th>femorshaft</th>\n",
       "      <th>pelvis</th>\n",
       "    </tr>\n",
       "  </thead>\n",
       "  <tbody>\n",
       "    <tr>\n",
       "      <th>0</th>\n",
       "      <td>28.0</td>\n",
       "      <td>1</td>\n",
       "      <td>7</td>\n",
       "      <td>0</td>\n",
       "      <td>0</td>\n",
       "      <td>0</td>\n",
       "      <td>0</td>\n",
       "      <td>0</td>\n",
       "      <td>0</td>\n",
       "      <td>0</td>\n",
       "      <td>3</td>\n",
       "      <td>0</td>\n",
       "      <td>2</td>\n",
       "      <td>0</td>\n",
       "      <td>0</td>\n",
       "      <td>0</td>\n",
       "      <td>0</td>\n",
       "    </tr>\n",
       "    <tr>\n",
       "      <th>1</th>\n",
       "      <td>50.0</td>\n",
       "      <td>1</td>\n",
       "      <td>7</td>\n",
       "      <td>0</td>\n",
       "      <td>0</td>\n",
       "      <td>0</td>\n",
       "      <td>0</td>\n",
       "      <td>0</td>\n",
       "      <td>0</td>\n",
       "      <td>0</td>\n",
       "      <td>3</td>\n",
       "      <td>0</td>\n",
       "      <td>3</td>\n",
       "      <td>0</td>\n",
       "      <td>0</td>\n",
       "      <td>0</td>\n",
       "      <td>0</td>\n",
       "    </tr>\n",
       "    <tr>\n",
       "      <th>2</th>\n",
       "      <td>29.0</td>\n",
       "      <td>1</td>\n",
       "      <td>2</td>\n",
       "      <td>0</td>\n",
       "      <td>0</td>\n",
       "      <td>0</td>\n",
       "      <td>0</td>\n",
       "      <td>0</td>\n",
       "      <td>0</td>\n",
       "      <td>0</td>\n",
       "      <td>0</td>\n",
       "      <td>0</td>\n",
       "      <td>3</td>\n",
       "      <td>0</td>\n",
       "      <td>0</td>\n",
       "      <td>0</td>\n",
       "      <td>1</td>\n",
       "    </tr>\n",
       "    <tr>\n",
       "      <th>3</th>\n",
       "      <td>42.0</td>\n",
       "      <td>1</td>\n",
       "      <td>9</td>\n",
       "      <td>0</td>\n",
       "      <td>0</td>\n",
       "      <td>0</td>\n",
       "      <td>0</td>\n",
       "      <td>0</td>\n",
       "      <td>0</td>\n",
       "      <td>0</td>\n",
       "      <td>0</td>\n",
       "      <td>0</td>\n",
       "      <td>1</td>\n",
       "      <td>0</td>\n",
       "      <td>0</td>\n",
       "      <td>0</td>\n",
       "      <td>1</td>\n",
       "    </tr>\n",
       "    <tr>\n",
       "      <th>4</th>\n",
       "      <td>44.0</td>\n",
       "      <td>2</td>\n",
       "      <td>2</td>\n",
       "      <td>0</td>\n",
       "      <td>0</td>\n",
       "      <td>0</td>\n",
       "      <td>0</td>\n",
       "      <td>0</td>\n",
       "      <td>0</td>\n",
       "      <td>0</td>\n",
       "      <td>0</td>\n",
       "      <td>0</td>\n",
       "      <td>3</td>\n",
       "      <td>0</td>\n",
       "      <td>0</td>\n",
       "      <td>0</td>\n",
       "      <td>1</td>\n",
       "    </tr>\n",
       "  </tbody>\n",
       "</table>\n",
       "</div>"
      ],
      "text/plain": [
       "    age sex Mechanism Shoulder Humeros elbow forearm Wrist hand Femor Knee  \\\n",
       "0  28.0   1         7        0       0     0       0     0    0     0    3   \n",
       "1  50.0   1         7        0       0     0       0     0    0     0    3   \n",
       "2  29.0   1         2        0       0     0       0     0    0     0    0   \n",
       "3  42.0   1         9        0       0     0       0     0    0     0    0   \n",
       "4  44.0   2         2        0       0     0       0     0    0     0    0   \n",
       "\n",
       "  Leg Foot Amputation  Lumbar femorshaft  pelvis  \n",
       "0   0    2          0       0          0       0  \n",
       "1   0    3          0       0          0       0  \n",
       "2   0    3          0       0          0       1  \n",
       "3   0    1          0       0          0       1  \n",
       "4   0    3          0       0          0       1  "
      ]
     },
     "execution_count": 57,
     "metadata": {},
     "output_type": "execute_result"
    }
   ],
   "source": [
    "df.head()"
   ]
  },
  {
   "cell_type": "code",
   "execution_count": 58,
   "id": "243f8565",
   "metadata": {},
   "outputs": [],
   "source": [
    "for column in df.columns:\n",
    "    if df[column].dtype == \"float64\":\n",
    "        df[column] = df[column].astype(int)"
   ]
  },
  {
   "cell_type": "code",
   "execution_count": 59,
   "id": "9124c838",
   "metadata": {},
   "outputs": [
    {
     "data": {
      "text/html": [
       "<div>\n",
       "<style scoped>\n",
       "    .dataframe tbody tr th:only-of-type {\n",
       "        vertical-align: middle;\n",
       "    }\n",
       "\n",
       "    .dataframe tbody tr th {\n",
       "        vertical-align: top;\n",
       "    }\n",
       "\n",
       "    .dataframe thead th {\n",
       "        text-align: right;\n",
       "    }\n",
       "</style>\n",
       "<table border=\"1\" class=\"dataframe\">\n",
       "  <thead>\n",
       "    <tr style=\"text-align: right;\">\n",
       "      <th></th>\n",
       "      <th>age</th>\n",
       "      <th>sex</th>\n",
       "      <th>Mechanism</th>\n",
       "      <th>Shoulder</th>\n",
       "      <th>Humeros</th>\n",
       "      <th>elbow</th>\n",
       "      <th>forearm</th>\n",
       "      <th>Wrist</th>\n",
       "      <th>hand</th>\n",
       "      <th>Femor</th>\n",
       "      <th>Knee</th>\n",
       "      <th>Leg</th>\n",
       "      <th>Foot</th>\n",
       "      <th>Amputation</th>\n",
       "      <th>Lumbar</th>\n",
       "      <th>femorshaft</th>\n",
       "      <th>pelvis</th>\n",
       "    </tr>\n",
       "  </thead>\n",
       "  <tbody>\n",
       "    <tr>\n",
       "      <th>0</th>\n",
       "      <td>28</td>\n",
       "      <td>1</td>\n",
       "      <td>7</td>\n",
       "      <td>0</td>\n",
       "      <td>0</td>\n",
       "      <td>0</td>\n",
       "      <td>0</td>\n",
       "      <td>0</td>\n",
       "      <td>0</td>\n",
       "      <td>0</td>\n",
       "      <td>3</td>\n",
       "      <td>0</td>\n",
       "      <td>2</td>\n",
       "      <td>0</td>\n",
       "      <td>0</td>\n",
       "      <td>0</td>\n",
       "      <td>0</td>\n",
       "    </tr>\n",
       "    <tr>\n",
       "      <th>1</th>\n",
       "      <td>50</td>\n",
       "      <td>1</td>\n",
       "      <td>7</td>\n",
       "      <td>0</td>\n",
       "      <td>0</td>\n",
       "      <td>0</td>\n",
       "      <td>0</td>\n",
       "      <td>0</td>\n",
       "      <td>0</td>\n",
       "      <td>0</td>\n",
       "      <td>3</td>\n",
       "      <td>0</td>\n",
       "      <td>3</td>\n",
       "      <td>0</td>\n",
       "      <td>0</td>\n",
       "      <td>0</td>\n",
       "      <td>0</td>\n",
       "    </tr>\n",
       "    <tr>\n",
       "      <th>2</th>\n",
       "      <td>29</td>\n",
       "      <td>1</td>\n",
       "      <td>2</td>\n",
       "      <td>0</td>\n",
       "      <td>0</td>\n",
       "      <td>0</td>\n",
       "      <td>0</td>\n",
       "      <td>0</td>\n",
       "      <td>0</td>\n",
       "      <td>0</td>\n",
       "      <td>0</td>\n",
       "      <td>0</td>\n",
       "      <td>3</td>\n",
       "      <td>0</td>\n",
       "      <td>0</td>\n",
       "      <td>0</td>\n",
       "      <td>1</td>\n",
       "    </tr>\n",
       "    <tr>\n",
       "      <th>3</th>\n",
       "      <td>42</td>\n",
       "      <td>1</td>\n",
       "      <td>9</td>\n",
       "      <td>0</td>\n",
       "      <td>0</td>\n",
       "      <td>0</td>\n",
       "      <td>0</td>\n",
       "      <td>0</td>\n",
       "      <td>0</td>\n",
       "      <td>0</td>\n",
       "      <td>0</td>\n",
       "      <td>0</td>\n",
       "      <td>1</td>\n",
       "      <td>0</td>\n",
       "      <td>0</td>\n",
       "      <td>0</td>\n",
       "      <td>1</td>\n",
       "    </tr>\n",
       "    <tr>\n",
       "      <th>4</th>\n",
       "      <td>44</td>\n",
       "      <td>2</td>\n",
       "      <td>2</td>\n",
       "      <td>0</td>\n",
       "      <td>0</td>\n",
       "      <td>0</td>\n",
       "      <td>0</td>\n",
       "      <td>0</td>\n",
       "      <td>0</td>\n",
       "      <td>0</td>\n",
       "      <td>0</td>\n",
       "      <td>0</td>\n",
       "      <td>3</td>\n",
       "      <td>0</td>\n",
       "      <td>0</td>\n",
       "      <td>0</td>\n",
       "      <td>1</td>\n",
       "    </tr>\n",
       "  </tbody>\n",
       "</table>\n",
       "</div>"
      ],
      "text/plain": [
       "   age sex Mechanism Shoulder Humeros elbow forearm Wrist hand Femor Knee Leg  \\\n",
       "0   28   1         7        0       0     0       0     0    0     0    3   0   \n",
       "1   50   1         7        0       0     0       0     0    0     0    3   0   \n",
       "2   29   1         2        0       0     0       0     0    0     0    0   0   \n",
       "3   42   1         9        0       0     0       0     0    0     0    0   0   \n",
       "4   44   2         2        0       0     0       0     0    0     0    0   0   \n",
       "\n",
       "  Foot Amputation  Lumbar femorshaft  pelvis  \n",
       "0    2          0       0          0       0  \n",
       "1    3          0       0          0       0  \n",
       "2    3          0       0          0       1  \n",
       "3    1          0       0          0       1  \n",
       "4    3          0       0          0       1  "
      ]
     },
     "execution_count": 59,
     "metadata": {},
     "output_type": "execute_result"
    }
   ],
   "source": [
    "df.head()"
   ]
  },
  {
   "cell_type": "code",
   "execution_count": 60,
   "id": "2677120a",
   "metadata": {},
   "outputs": [],
   "source": [
    "for column in df.columns[1:]:\n",
    "    if df[column].dtype == \"category\":\n",
    "        pass\n",
    "    else:\n",
    "        df[column] = df[column].astype(\"category\")"
   ]
  },
  {
   "cell_type": "code",
   "execution_count": 61,
   "id": "1db818af",
   "metadata": {},
   "outputs": [
    {
     "name": "stdout",
     "output_type": "stream",
     "text": [
      "<class 'pandas.core.frame.DataFrame'>\n",
      "Int64Index: 2359 entries, 0 to 2479\n",
      "Data columns (total 17 columns):\n",
      " #   Column      Non-Null Count  Dtype   \n",
      "---  ------      --------------  -----   \n",
      " 0   age         2359 non-null   int64   \n",
      " 1   sex         2359 non-null   category\n",
      " 2   Mechanism   2359 non-null   category\n",
      " 3   Shoulder    2359 non-null   category\n",
      " 4   Humeros     2359 non-null   category\n",
      " 5   elbow       2359 non-null   category\n",
      " 6   forearm     2359 non-null   category\n",
      " 7   Wrist       2359 non-null   category\n",
      " 8   hand        2359 non-null   category\n",
      " 9   Femor       2359 non-null   category\n",
      " 10  Knee        2359 non-null   category\n",
      " 11  Leg         2359 non-null   category\n",
      " 12  Foot        2359 non-null   category\n",
      " 13  Amputation  2359 non-null   category\n",
      " 14  Lumbar      2359 non-null   category\n",
      " 15  femorshaft  2359 non-null   category\n",
      " 16  pelvis      2359 non-null   category\n",
      "dtypes: category(16), int64(1)\n",
      "memory usage: 77.1 KB\n"
     ]
    }
   ],
   "source": [
    "df.info()"
   ]
  },
  {
   "cell_type": "code",
   "execution_count": 62,
   "id": "da4c5fcf",
   "metadata": {},
   "outputs": [],
   "source": [
    "df = df.reset_index(drop=True)"
   ]
  },
  {
   "cell_type": "code",
   "execution_count": 63,
   "id": "12499f51",
   "metadata": {},
   "outputs": [
    {
     "name": "stdout",
     "output_type": "stream",
     "text": [
      "<class 'pandas.core.frame.DataFrame'>\n",
      "RangeIndex: 2359 entries, 0 to 2358\n",
      "Data columns (total 17 columns):\n",
      " #   Column      Non-Null Count  Dtype   \n",
      "---  ------      --------------  -----   \n",
      " 0   age         2359 non-null   int64   \n",
      " 1   sex         2359 non-null   category\n",
      " 2   Mechanism   2359 non-null   category\n",
      " 3   Shoulder    2359 non-null   category\n",
      " 4   Humeros     2359 non-null   category\n",
      " 5   elbow       2359 non-null   category\n",
      " 6   forearm     2359 non-null   category\n",
      " 7   Wrist       2359 non-null   category\n",
      " 8   hand        2359 non-null   category\n",
      " 9   Femor       2359 non-null   category\n",
      " 10  Knee        2359 non-null   category\n",
      " 11  Leg         2359 non-null   category\n",
      " 12  Foot        2359 non-null   category\n",
      " 13  Amputation  2359 non-null   category\n",
      " 14  Lumbar      2359 non-null   category\n",
      " 15  femorshaft  2359 non-null   category\n",
      " 16  pelvis      2359 non-null   category\n",
      "dtypes: category(16), int64(1)\n",
      "memory usage: 58.8 KB\n"
     ]
    }
   ],
   "source": [
    "df.info()"
   ]
  },
  {
   "cell_type": "markdown",
   "id": "80d82550",
   "metadata": {},
   "source": [
    "## Train - Test split"
   ]
  },
  {
   "cell_type": "code",
   "execution_count": 64,
   "id": "f25f7f03",
   "metadata": {},
   "outputs": [],
   "source": [
    "from sklearn.model_selection import StratifiedShuffleSplit\n",
    "\n",
    "X = df.drop(\"Mechanism\", axis = 1)\n",
    "y = df[\"Mechanism\"]\n",
    "\n",
    "split = StratifiedShuffleSplit(n_splits=1, test_size=0.15, random_state=42)\n",
    "\n",
    "for train_index, test_index in split.split(X, y):\n",
    "    X_train = X.loc[train_index]\n",
    "    X_test = X.loc[test_index]\n",
    "    y_train = y.loc[train_index]\n",
    "    y_test = y.loc[test_index]"
   ]
  },
  {
   "cell_type": "code",
   "execution_count": 65,
   "id": "990f6ced",
   "metadata": {},
   "outputs": [
    {
     "name": "stdout",
     "output_type": "stream",
     "text": [
      "X_train shape: (2005, 16)\n",
      "X_test shape: (354, 16)\n",
      "y_train shape: (2005,)\n",
      "y_test shape: (354,)\n"
     ]
    }
   ],
   "source": [
    "print(\"X_train shape:\", X_train.shape)\n",
    "print(\"X_test shape:\", X_test.shape)\n",
    "print(\"y_train shape:\", y_train.shape)\n",
    "print(\"y_test shape:\", y_test.shape)"
   ]
  },
  {
   "cell_type": "code",
   "execution_count": 66,
   "id": "5f7d29d5",
   "metadata": {},
   "outputs": [
    {
     "data": {
      "text/plain": [
       "['sex',\n",
       " 'Shoulder',\n",
       " 'Humeros',\n",
       " 'elbow',\n",
       " 'forearm',\n",
       " 'Wrist',\n",
       " 'hand',\n",
       " 'Femor',\n",
       " 'Knee',\n",
       " 'Leg',\n",
       " 'Foot',\n",
       " 'Amputation',\n",
       " 'Lumbar',\n",
       " 'femorshaft',\n",
       " 'pelvis',\n",
       " 'age']"
      ]
     },
     "execution_count": 66,
     "metadata": {},
     "output_type": "execute_result"
    }
   ],
   "source": [
    "ordinal_list = []\n",
    "cat_list = [    'sex',\n",
    "                'Shoulder',\n",
    "                'Humeros',\n",
    "                'elbow',\n",
    "                'forearm',\n",
    "                'Wrist',\n",
    "                'hand',\n",
    "                'Femor',\n",
    "                'Knee',\n",
    "                'Leg',\n",
    "                'Foot',\n",
    "                'Amputation',\n",
    "                'Lumbar',\n",
    "                'femorshaft',\n",
    "                'pelvis'\n",
    "           ]\n",
    "\n",
    "num_list = ['age'\n",
    "            ]\n",
    "\n",
    "whole_list = cat_list + ordinal_list + num_list\n",
    "whole_list"
   ]
  },
  {
   "cell_type": "code",
   "execution_count": 67,
   "id": "3aa676bb",
   "metadata": {},
   "outputs": [
    {
     "data": {
      "text/plain": [
       "array([[ 1.        ,  0.        ,  0.        , ..., -0.14627311,\n",
       "        -0.11683386, -0.38105679],\n",
       "       [ 1.        ,  0.        ,  1.        , ..., -0.14627311,\n",
       "        -0.11683386, -0.17779271],\n",
       "       [ 1.        ,  0.        ,  1.        , ..., -0.14627311,\n",
       "        -0.11683386, -0.83840098],\n",
       "       ...,\n",
       "       [ 1.        ,  0.        ,  1.        , ..., -0.14627311,\n",
       "        -0.11683386,  1.49913597],\n",
       "       [ 1.        ,  0.        ,  1.        , ..., -0.14627311,\n",
       "        -0.11683386,  0.38118352],\n",
       "       [ 1.        ,  0.        ,  1.        , ..., -0.14627311,\n",
       "        -0.11683386, -0.27942475]])"
      ]
     },
     "execution_count": 67,
     "metadata": {},
     "output_type": "execute_result"
    }
   ],
   "source": [
    "from sklearn.compose import ColumnTransformer\n",
    "from sklearn.preprocessing import StandardScaler\n",
    "from sklearn.preprocessing import OneHotEncoder\n",
    "\n",
    "full_pipeline_nom = ColumnTransformer([\n",
    "    ('cat', OneHotEncoder(), cat_list),\n",
    "    ('full', StandardScaler(), whole_list) \n",
    "])\n",
    "\n",
    "data_prepared = full_pipeline_nom.fit_transform(X_train)\n",
    "\n",
    "\n",
    "\n",
    "data_prepared"
   ]
  },
  {
   "cell_type": "code",
   "execution_count": 68,
   "id": "7d41e009",
   "metadata": {},
   "outputs": [
    {
     "data": {
      "text/plain": [
       "array(['sex_1', 'sex_2', 'Shoulder_0', 'Shoulder_1', 'Shoulder_2',\n",
       "       'Shoulder_3', 'Shoulder_4', 'Shoulder_5', 'Humeros_0', 'Humeros_1',\n",
       "       'elbow_0', 'elbow_1', 'elbow_2', 'elbow_3', 'elbow_4', 'elbow_5',\n",
       "       'elbow_6', 'elbow_7', 'elbow_8', 'elbow_9', 'forearm_0',\n",
       "       'forearm_1', 'forearm_2', 'forearm_3', 'forearm_4', 'forearm_5',\n",
       "       'Wrist_0', 'Wrist_1', 'Wrist_2', 'Wrist_3', 'Wrist_4', 'hand_0',\n",
       "       'hand_1', 'hand_2', 'Femor_0', 'Femor_1', 'Femor_2', 'Femor_3',\n",
       "       'Femor_4', 'Femor_5', 'Femor_6', 'Knee_0', 'Knee_1', 'Knee_2',\n",
       "       'Knee_3', 'Knee_4', 'Leg_0', 'Leg_1', 'Leg_2', 'Leg_3', 'Foot_0',\n",
       "       'Foot_1', 'Foot_2', 'Foot_3', 'Foot_4', 'Foot_5', 'Foot_6',\n",
       "       'Foot_7', 'Foot_8', 'Foot_9', 'Amputation_0', 'Amputation_1',\n",
       "       'Amputation_2', 'Lumbar_0', 'Lumbar_1', 'femorshaft_0',\n",
       "       'femorshaft_1', 'pelvis_0', 'pelvis_1', 'age'], dtype=object)"
      ]
     },
     "execution_count": 68,
     "metadata": {},
     "output_type": "execute_result"
    }
   ],
   "source": [
    "feature_names = np.concatenate((full_pipeline_nom.transformers_[0][1].get_feature_names_out(), num_list))\n",
    "feature_names"
   ]
  },
  {
   "cell_type": "code",
   "execution_count": 69,
   "id": "637e6eb2",
   "metadata": {},
   "outputs": [
    {
     "data": {
      "text/html": [
       "<div>\n",
       "<style scoped>\n",
       "    .dataframe tbody tr th:only-of-type {\n",
       "        vertical-align: middle;\n",
       "    }\n",
       "\n",
       "    .dataframe tbody tr th {\n",
       "        vertical-align: top;\n",
       "    }\n",
       "\n",
       "    .dataframe thead th {\n",
       "        text-align: right;\n",
       "    }\n",
       "</style>\n",
       "<table border=\"1\" class=\"dataframe\">\n",
       "  <thead>\n",
       "    <tr style=\"text-align: right;\">\n",
       "      <th></th>\n",
       "      <th>0</th>\n",
       "      <th>1</th>\n",
       "      <th>2</th>\n",
       "      <th>3</th>\n",
       "      <th>4</th>\n",
       "      <th>5</th>\n",
       "      <th>6</th>\n",
       "      <th>7</th>\n",
       "      <th>8</th>\n",
       "      <th>9</th>\n",
       "      <th>...</th>\n",
       "      <th>75</th>\n",
       "      <th>76</th>\n",
       "      <th>77</th>\n",
       "      <th>78</th>\n",
       "      <th>79</th>\n",
       "      <th>80</th>\n",
       "      <th>81</th>\n",
       "      <th>82</th>\n",
       "      <th>83</th>\n",
       "      <th>84</th>\n",
       "    </tr>\n",
       "  </thead>\n",
       "  <tbody>\n",
       "    <tr>\n",
       "      <th>0</th>\n",
       "      <td>1.0</td>\n",
       "      <td>0.0</td>\n",
       "      <td>0.0</td>\n",
       "      <td>1.0</td>\n",
       "      <td>0.0</td>\n",
       "      <td>0.0</td>\n",
       "      <td>0.0</td>\n",
       "      <td>0.0</td>\n",
       "      <td>1.0</td>\n",
       "      <td>0.0</td>\n",
       "      <td>...</td>\n",
       "      <td>-0.389443</td>\n",
       "      <td>-0.228365</td>\n",
       "      <td>-0.168535</td>\n",
       "      <td>-0.217803</td>\n",
       "      <td>-0.312607</td>\n",
       "      <td>-0.137969</td>\n",
       "      <td>-0.102882</td>\n",
       "      <td>-0.146273</td>\n",
       "      <td>-0.116834</td>\n",
       "      <td>-0.381057</td>\n",
       "    </tr>\n",
       "    <tr>\n",
       "      <th>1</th>\n",
       "      <td>1.0</td>\n",
       "      <td>0.0</td>\n",
       "      <td>1.0</td>\n",
       "      <td>0.0</td>\n",
       "      <td>0.0</td>\n",
       "      <td>0.0</td>\n",
       "      <td>0.0</td>\n",
       "      <td>0.0</td>\n",
       "      <td>0.0</td>\n",
       "      <td>1.0</td>\n",
       "      <td>...</td>\n",
       "      <td>-0.389443</td>\n",
       "      <td>-0.228365</td>\n",
       "      <td>-0.168535</td>\n",
       "      <td>-0.217803</td>\n",
       "      <td>-0.312607</td>\n",
       "      <td>-0.137969</td>\n",
       "      <td>-0.102882</td>\n",
       "      <td>-0.146273</td>\n",
       "      <td>-0.116834</td>\n",
       "      <td>-0.177793</td>\n",
       "    </tr>\n",
       "    <tr>\n",
       "      <th>2</th>\n",
       "      <td>1.0</td>\n",
       "      <td>0.0</td>\n",
       "      <td>1.0</td>\n",
       "      <td>0.0</td>\n",
       "      <td>0.0</td>\n",
       "      <td>0.0</td>\n",
       "      <td>0.0</td>\n",
       "      <td>0.0</td>\n",
       "      <td>1.0</td>\n",
       "      <td>0.0</td>\n",
       "      <td>...</td>\n",
       "      <td>1.607571</td>\n",
       "      <td>-0.228365</td>\n",
       "      <td>-0.168535</td>\n",
       "      <td>-0.217803</td>\n",
       "      <td>-0.312607</td>\n",
       "      <td>-0.137969</td>\n",
       "      <td>-0.102882</td>\n",
       "      <td>-0.146273</td>\n",
       "      <td>-0.116834</td>\n",
       "      <td>-0.838401</td>\n",
       "    </tr>\n",
       "    <tr>\n",
       "      <th>3</th>\n",
       "      <td>1.0</td>\n",
       "      <td>0.0</td>\n",
       "      <td>1.0</td>\n",
       "      <td>0.0</td>\n",
       "      <td>0.0</td>\n",
       "      <td>0.0</td>\n",
       "      <td>0.0</td>\n",
       "      <td>0.0</td>\n",
       "      <td>1.0</td>\n",
       "      <td>0.0</td>\n",
       "      <td>...</td>\n",
       "      <td>1.607571</td>\n",
       "      <td>-0.228365</td>\n",
       "      <td>-0.168535</td>\n",
       "      <td>-0.217803</td>\n",
       "      <td>-0.312607</td>\n",
       "      <td>-0.137969</td>\n",
       "      <td>-0.102882</td>\n",
       "      <td>-0.146273</td>\n",
       "      <td>-0.116834</td>\n",
       "      <td>-0.685953</td>\n",
       "    </tr>\n",
       "    <tr>\n",
       "      <th>4</th>\n",
       "      <td>1.0</td>\n",
       "      <td>0.0</td>\n",
       "      <td>1.0</td>\n",
       "      <td>0.0</td>\n",
       "      <td>0.0</td>\n",
       "      <td>0.0</td>\n",
       "      <td>0.0</td>\n",
       "      <td>0.0</td>\n",
       "      <td>1.0</td>\n",
       "      <td>0.0</td>\n",
       "      <td>...</td>\n",
       "      <td>-0.389443</td>\n",
       "      <td>-0.228365</td>\n",
       "      <td>-0.168535</td>\n",
       "      <td>-0.217803</td>\n",
       "      <td>-0.312607</td>\n",
       "      <td>-0.137969</td>\n",
       "      <td>-0.102882</td>\n",
       "      <td>-0.146273</td>\n",
       "      <td>-0.116834</td>\n",
       "      <td>-0.279425</td>\n",
       "    </tr>\n",
       "    <tr>\n",
       "      <th>...</th>\n",
       "      <td>...</td>\n",
       "      <td>...</td>\n",
       "      <td>...</td>\n",
       "      <td>...</td>\n",
       "      <td>...</td>\n",
       "      <td>...</td>\n",
       "      <td>...</td>\n",
       "      <td>...</td>\n",
       "      <td>...</td>\n",
       "      <td>...</td>\n",
       "      <td>...</td>\n",
       "      <td>...</td>\n",
       "      <td>...</td>\n",
       "      <td>...</td>\n",
       "      <td>...</td>\n",
       "      <td>...</td>\n",
       "      <td>...</td>\n",
       "      <td>...</td>\n",
       "      <td>...</td>\n",
       "      <td>...</td>\n",
       "      <td>...</td>\n",
       "    </tr>\n",
       "    <tr>\n",
       "      <th>2000</th>\n",
       "      <td>1.0</td>\n",
       "      <td>0.0</td>\n",
       "      <td>1.0</td>\n",
       "      <td>0.0</td>\n",
       "      <td>0.0</td>\n",
       "      <td>0.0</td>\n",
       "      <td>0.0</td>\n",
       "      <td>0.0</td>\n",
       "      <td>1.0</td>\n",
       "      <td>0.0</td>\n",
       "      <td>...</td>\n",
       "      <td>-0.389443</td>\n",
       "      <td>-0.228365</td>\n",
       "      <td>-0.168535</td>\n",
       "      <td>-0.217803</td>\n",
       "      <td>1.304881</td>\n",
       "      <td>-0.137969</td>\n",
       "      <td>-0.102882</td>\n",
       "      <td>-0.146273</td>\n",
       "      <td>-0.116834</td>\n",
       "      <td>-0.533505</td>\n",
       "    </tr>\n",
       "    <tr>\n",
       "      <th>2001</th>\n",
       "      <td>1.0</td>\n",
       "      <td>0.0</td>\n",
       "      <td>1.0</td>\n",
       "      <td>0.0</td>\n",
       "      <td>0.0</td>\n",
       "      <td>0.0</td>\n",
       "      <td>0.0</td>\n",
       "      <td>0.0</td>\n",
       "      <td>1.0</td>\n",
       "      <td>0.0</td>\n",
       "      <td>...</td>\n",
       "      <td>-0.389443</td>\n",
       "      <td>-0.228365</td>\n",
       "      <td>-0.168535</td>\n",
       "      <td>-0.217803</td>\n",
       "      <td>-0.312607</td>\n",
       "      <td>-0.137969</td>\n",
       "      <td>-0.102882</td>\n",
       "      <td>-0.146273</td>\n",
       "      <td>-0.116834</td>\n",
       "      <td>-1.397377</td>\n",
       "    </tr>\n",
       "    <tr>\n",
       "      <th>2002</th>\n",
       "      <td>1.0</td>\n",
       "      <td>0.0</td>\n",
       "      <td>1.0</td>\n",
       "      <td>0.0</td>\n",
       "      <td>0.0</td>\n",
       "      <td>0.0</td>\n",
       "      <td>0.0</td>\n",
       "      <td>0.0</td>\n",
       "      <td>1.0</td>\n",
       "      <td>0.0</td>\n",
       "      <td>...</td>\n",
       "      <td>-0.389443</td>\n",
       "      <td>-0.228365</td>\n",
       "      <td>-0.168535</td>\n",
       "      <td>-0.217803</td>\n",
       "      <td>3.731113</td>\n",
       "      <td>-0.137969</td>\n",
       "      <td>-0.102882</td>\n",
       "      <td>-0.146273</td>\n",
       "      <td>-0.116834</td>\n",
       "      <td>1.499136</td>\n",
       "    </tr>\n",
       "    <tr>\n",
       "      <th>2003</th>\n",
       "      <td>1.0</td>\n",
       "      <td>0.0</td>\n",
       "      <td>1.0</td>\n",
       "      <td>0.0</td>\n",
       "      <td>0.0</td>\n",
       "      <td>0.0</td>\n",
       "      <td>0.0</td>\n",
       "      <td>0.0</td>\n",
       "      <td>1.0</td>\n",
       "      <td>0.0</td>\n",
       "      <td>...</td>\n",
       "      <td>1.607571</td>\n",
       "      <td>-0.228365</td>\n",
       "      <td>-0.168535</td>\n",
       "      <td>-0.217803</td>\n",
       "      <td>-0.312607</td>\n",
       "      <td>-0.137969</td>\n",
       "      <td>-0.102882</td>\n",
       "      <td>-0.146273</td>\n",
       "      <td>-0.116834</td>\n",
       "      <td>0.381184</td>\n",
       "    </tr>\n",
       "    <tr>\n",
       "      <th>2004</th>\n",
       "      <td>1.0</td>\n",
       "      <td>0.0</td>\n",
       "      <td>1.0</td>\n",
       "      <td>0.0</td>\n",
       "      <td>0.0</td>\n",
       "      <td>0.0</td>\n",
       "      <td>0.0</td>\n",
       "      <td>0.0</td>\n",
       "      <td>1.0</td>\n",
       "      <td>0.0</td>\n",
       "      <td>...</td>\n",
       "      <td>-0.389443</td>\n",
       "      <td>-0.228365</td>\n",
       "      <td>-0.168535</td>\n",
       "      <td>-0.217803</td>\n",
       "      <td>2.922369</td>\n",
       "      <td>-0.137969</td>\n",
       "      <td>-0.102882</td>\n",
       "      <td>-0.146273</td>\n",
       "      <td>-0.116834</td>\n",
       "      <td>-0.279425</td>\n",
       "    </tr>\n",
       "  </tbody>\n",
       "</table>\n",
       "<p>2005 rows × 85 columns</p>\n",
       "</div>"
      ],
      "text/plain": [
       "       0    1    2    3    4    5    6    7    8    9   ...        75  \\\n",
       "0     1.0  0.0  0.0  1.0  0.0  0.0  0.0  0.0  1.0  0.0  ... -0.389443   \n",
       "1     1.0  0.0  1.0  0.0  0.0  0.0  0.0  0.0  0.0  1.0  ... -0.389443   \n",
       "2     1.0  0.0  1.0  0.0  0.0  0.0  0.0  0.0  1.0  0.0  ...  1.607571   \n",
       "3     1.0  0.0  1.0  0.0  0.0  0.0  0.0  0.0  1.0  0.0  ...  1.607571   \n",
       "4     1.0  0.0  1.0  0.0  0.0  0.0  0.0  0.0  1.0  0.0  ... -0.389443   \n",
       "...   ...  ...  ...  ...  ...  ...  ...  ...  ...  ...  ...       ...   \n",
       "2000  1.0  0.0  1.0  0.0  0.0  0.0  0.0  0.0  1.0  0.0  ... -0.389443   \n",
       "2001  1.0  0.0  1.0  0.0  0.0  0.0  0.0  0.0  1.0  0.0  ... -0.389443   \n",
       "2002  1.0  0.0  1.0  0.0  0.0  0.0  0.0  0.0  1.0  0.0  ... -0.389443   \n",
       "2003  1.0  0.0  1.0  0.0  0.0  0.0  0.0  0.0  1.0  0.0  ...  1.607571   \n",
       "2004  1.0  0.0  1.0  0.0  0.0  0.0  0.0  0.0  1.0  0.0  ... -0.389443   \n",
       "\n",
       "            76        77        78        79        80        81        82  \\\n",
       "0    -0.228365 -0.168535 -0.217803 -0.312607 -0.137969 -0.102882 -0.146273   \n",
       "1    -0.228365 -0.168535 -0.217803 -0.312607 -0.137969 -0.102882 -0.146273   \n",
       "2    -0.228365 -0.168535 -0.217803 -0.312607 -0.137969 -0.102882 -0.146273   \n",
       "3    -0.228365 -0.168535 -0.217803 -0.312607 -0.137969 -0.102882 -0.146273   \n",
       "4    -0.228365 -0.168535 -0.217803 -0.312607 -0.137969 -0.102882 -0.146273   \n",
       "...        ...       ...       ...       ...       ...       ...       ...   \n",
       "2000 -0.228365 -0.168535 -0.217803  1.304881 -0.137969 -0.102882 -0.146273   \n",
       "2001 -0.228365 -0.168535 -0.217803 -0.312607 -0.137969 -0.102882 -0.146273   \n",
       "2002 -0.228365 -0.168535 -0.217803  3.731113 -0.137969 -0.102882 -0.146273   \n",
       "2003 -0.228365 -0.168535 -0.217803 -0.312607 -0.137969 -0.102882 -0.146273   \n",
       "2004 -0.228365 -0.168535 -0.217803  2.922369 -0.137969 -0.102882 -0.146273   \n",
       "\n",
       "            83        84  \n",
       "0    -0.116834 -0.381057  \n",
       "1    -0.116834 -0.177793  \n",
       "2    -0.116834 -0.838401  \n",
       "3    -0.116834 -0.685953  \n",
       "4    -0.116834 -0.279425  \n",
       "...        ...       ...  \n",
       "2000 -0.116834 -0.533505  \n",
       "2001 -0.116834 -1.397377  \n",
       "2002 -0.116834  1.499136  \n",
       "2003 -0.116834  0.381184  \n",
       "2004 -0.116834 -0.279425  \n",
       "\n",
       "[2005 rows x 85 columns]"
      ]
     },
     "execution_count": 69,
     "metadata": {},
     "output_type": "execute_result"
    }
   ],
   "source": [
    "X_train = pd.DataFrame(data_prepared)\n",
    "X_train"
   ]
  },
  {
   "cell_type": "markdown",
   "id": "0f6ce473",
   "metadata": {},
   "source": [
    "### Transfrom test variable"
   ]
  },
  {
   "cell_type": "code",
   "execution_count": 70,
   "id": "48279abc",
   "metadata": {},
   "outputs": [
    {
     "data": {
      "text/html": [
       "<div>\n",
       "<style scoped>\n",
       "    .dataframe tbody tr th:only-of-type {\n",
       "        vertical-align: middle;\n",
       "    }\n",
       "\n",
       "    .dataframe tbody tr th {\n",
       "        vertical-align: top;\n",
       "    }\n",
       "\n",
       "    .dataframe thead th {\n",
       "        text-align: right;\n",
       "    }\n",
       "</style>\n",
       "<table border=\"1\" class=\"dataframe\">\n",
       "  <thead>\n",
       "    <tr style=\"text-align: right;\">\n",
       "      <th></th>\n",
       "      <th>0</th>\n",
       "      <th>1</th>\n",
       "      <th>2</th>\n",
       "      <th>3</th>\n",
       "      <th>4</th>\n",
       "      <th>5</th>\n",
       "      <th>6</th>\n",
       "      <th>7</th>\n",
       "      <th>8</th>\n",
       "      <th>9</th>\n",
       "      <th>...</th>\n",
       "      <th>75</th>\n",
       "      <th>76</th>\n",
       "      <th>77</th>\n",
       "      <th>78</th>\n",
       "      <th>79</th>\n",
       "      <th>80</th>\n",
       "      <th>81</th>\n",
       "      <th>82</th>\n",
       "      <th>83</th>\n",
       "      <th>84</th>\n",
       "    </tr>\n",
       "  </thead>\n",
       "  <tbody>\n",
       "    <tr>\n",
       "      <th>0</th>\n",
       "      <td>1.0</td>\n",
       "      <td>0.0</td>\n",
       "      <td>1.0</td>\n",
       "      <td>0.0</td>\n",
       "      <td>0.0</td>\n",
       "      <td>0.0</td>\n",
       "      <td>0.0</td>\n",
       "      <td>0.0</td>\n",
       "      <td>1.0</td>\n",
       "      <td>0.0</td>\n",
       "      <td>...</td>\n",
       "      <td>-0.389443</td>\n",
       "      <td>-0.228365</td>\n",
       "      <td>-0.168535</td>\n",
       "      <td>-0.217803</td>\n",
       "      <td>-0.312607</td>\n",
       "      <td>-0.137969</td>\n",
       "      <td>-0.102882</td>\n",
       "      <td>-0.146273</td>\n",
       "      <td>-0.116834</td>\n",
       "      <td>-1.143297</td>\n",
       "    </tr>\n",
       "    <tr>\n",
       "      <th>1</th>\n",
       "      <td>0.0</td>\n",
       "      <td>1.0</td>\n",
       "      <td>1.0</td>\n",
       "      <td>0.0</td>\n",
       "      <td>0.0</td>\n",
       "      <td>0.0</td>\n",
       "      <td>0.0</td>\n",
       "      <td>0.0</td>\n",
       "      <td>1.0</td>\n",
       "      <td>0.0</td>\n",
       "      <td>...</td>\n",
       "      <td>-0.389443</td>\n",
       "      <td>-0.228365</td>\n",
       "      <td>-0.168535</td>\n",
       "      <td>-0.217803</td>\n",
       "      <td>-0.312607</td>\n",
       "      <td>-0.137969</td>\n",
       "      <td>-0.102882</td>\n",
       "      <td>-0.146273</td>\n",
       "      <td>-0.116834</td>\n",
       "      <td>-1.397377</td>\n",
       "    </tr>\n",
       "    <tr>\n",
       "      <th>2</th>\n",
       "      <td>1.0</td>\n",
       "      <td>0.0</td>\n",
       "      <td>1.0</td>\n",
       "      <td>0.0</td>\n",
       "      <td>0.0</td>\n",
       "      <td>0.0</td>\n",
       "      <td>0.0</td>\n",
       "      <td>0.0</td>\n",
       "      <td>1.0</td>\n",
       "      <td>0.0</td>\n",
       "      <td>...</td>\n",
       "      <td>-0.389443</td>\n",
       "      <td>-0.228365</td>\n",
       "      <td>-0.168535</td>\n",
       "      <td>2.581526</td>\n",
       "      <td>-0.312607</td>\n",
       "      <td>-0.137969</td>\n",
       "      <td>-0.102882</td>\n",
       "      <td>-0.146273</td>\n",
       "      <td>-0.116834</td>\n",
       "      <td>-1.397377</td>\n",
       "    </tr>\n",
       "    <tr>\n",
       "      <th>3</th>\n",
       "      <td>1.0</td>\n",
       "      <td>0.0</td>\n",
       "      <td>1.0</td>\n",
       "      <td>0.0</td>\n",
       "      <td>0.0</td>\n",
       "      <td>0.0</td>\n",
       "      <td>0.0</td>\n",
       "      <td>0.0</td>\n",
       "      <td>1.0</td>\n",
       "      <td>0.0</td>\n",
       "      <td>...</td>\n",
       "      <td>-0.389443</td>\n",
       "      <td>-0.228365</td>\n",
       "      <td>-0.168535</td>\n",
       "      <td>-0.217803</td>\n",
       "      <td>-0.312607</td>\n",
       "      <td>-0.137969</td>\n",
       "      <td>-0.102882</td>\n",
       "      <td>-0.146273</td>\n",
       "      <td>-0.116834</td>\n",
       "      <td>0.381184</td>\n",
       "    </tr>\n",
       "    <tr>\n",
       "      <th>4</th>\n",
       "      <td>1.0</td>\n",
       "      <td>0.0</td>\n",
       "      <td>1.0</td>\n",
       "      <td>0.0</td>\n",
       "      <td>0.0</td>\n",
       "      <td>0.0</td>\n",
       "      <td>0.0</td>\n",
       "      <td>0.0</td>\n",
       "      <td>1.0</td>\n",
       "      <td>0.0</td>\n",
       "      <td>...</td>\n",
       "      <td>-0.389443</td>\n",
       "      <td>-0.228365</td>\n",
       "      <td>-0.168535</td>\n",
       "      <td>-0.217803</td>\n",
       "      <td>-0.312607</td>\n",
       "      <td>-0.137969</td>\n",
       "      <td>-0.102882</td>\n",
       "      <td>-0.146273</td>\n",
       "      <td>-0.116834</td>\n",
       "      <td>-1.041665</td>\n",
       "    </tr>\n",
       "    <tr>\n",
       "      <th>...</th>\n",
       "      <td>...</td>\n",
       "      <td>...</td>\n",
       "      <td>...</td>\n",
       "      <td>...</td>\n",
       "      <td>...</td>\n",
       "      <td>...</td>\n",
       "      <td>...</td>\n",
       "      <td>...</td>\n",
       "      <td>...</td>\n",
       "      <td>...</td>\n",
       "      <td>...</td>\n",
       "      <td>...</td>\n",
       "      <td>...</td>\n",
       "      <td>...</td>\n",
       "      <td>...</td>\n",
       "      <td>...</td>\n",
       "      <td>...</td>\n",
       "      <td>...</td>\n",
       "      <td>...</td>\n",
       "      <td>...</td>\n",
       "      <td>...</td>\n",
       "    </tr>\n",
       "    <tr>\n",
       "      <th>349</th>\n",
       "      <td>0.0</td>\n",
       "      <td>1.0</td>\n",
       "      <td>1.0</td>\n",
       "      <td>0.0</td>\n",
       "      <td>0.0</td>\n",
       "      <td>0.0</td>\n",
       "      <td>0.0</td>\n",
       "      <td>0.0</td>\n",
       "      <td>1.0</td>\n",
       "      <td>0.0</td>\n",
       "      <td>...</td>\n",
       "      <td>-0.389443</td>\n",
       "      <td>-0.228365</td>\n",
       "      <td>-0.168535</td>\n",
       "      <td>-0.217803</td>\n",
       "      <td>2.113625</td>\n",
       "      <td>-0.137969</td>\n",
       "      <td>-0.102882</td>\n",
       "      <td>-0.146273</td>\n",
       "      <td>-0.116834</td>\n",
       "      <td>0.889344</td>\n",
       "    </tr>\n",
       "    <tr>\n",
       "      <th>350</th>\n",
       "      <td>1.0</td>\n",
       "      <td>0.0</td>\n",
       "      <td>1.0</td>\n",
       "      <td>0.0</td>\n",
       "      <td>0.0</td>\n",
       "      <td>0.0</td>\n",
       "      <td>0.0</td>\n",
       "      <td>0.0</td>\n",
       "      <td>1.0</td>\n",
       "      <td>0.0</td>\n",
       "      <td>...</td>\n",
       "      <td>-0.389443</td>\n",
       "      <td>-0.228365</td>\n",
       "      <td>-0.168535</td>\n",
       "      <td>-0.217803</td>\n",
       "      <td>-0.312607</td>\n",
       "      <td>-0.137969</td>\n",
       "      <td>-0.102882</td>\n",
       "      <td>-0.146273</td>\n",
       "      <td>-0.116834</td>\n",
       "      <td>0.177919</td>\n",
       "    </tr>\n",
       "    <tr>\n",
       "      <th>351</th>\n",
       "      <td>1.0</td>\n",
       "      <td>0.0</td>\n",
       "      <td>1.0</td>\n",
       "      <td>0.0</td>\n",
       "      <td>0.0</td>\n",
       "      <td>0.0</td>\n",
       "      <td>0.0</td>\n",
       "      <td>0.0</td>\n",
       "      <td>1.0</td>\n",
       "      <td>0.0</td>\n",
       "      <td>...</td>\n",
       "      <td>-0.389443</td>\n",
       "      <td>-0.228365</td>\n",
       "      <td>-0.168535</td>\n",
       "      <td>-0.217803</td>\n",
       "      <td>4.539857</td>\n",
       "      <td>-0.137969</td>\n",
       "      <td>-0.102882</td>\n",
       "      <td>-0.146273</td>\n",
       "      <td>-0.116834</td>\n",
       "      <td>0.279551</td>\n",
       "    </tr>\n",
       "    <tr>\n",
       "      <th>352</th>\n",
       "      <td>1.0</td>\n",
       "      <td>0.0</td>\n",
       "      <td>1.0</td>\n",
       "      <td>0.0</td>\n",
       "      <td>0.0</td>\n",
       "      <td>0.0</td>\n",
       "      <td>0.0</td>\n",
       "      <td>0.0</td>\n",
       "      <td>1.0</td>\n",
       "      <td>0.0</td>\n",
       "      <td>...</td>\n",
       "      <td>-0.389443</td>\n",
       "      <td>-0.228365</td>\n",
       "      <td>-0.168535</td>\n",
       "      <td>-0.217803</td>\n",
       "      <td>-0.312607</td>\n",
       "      <td>-0.137969</td>\n",
       "      <td>-0.102882</td>\n",
       "      <td>-0.146273</td>\n",
       "      <td>-0.116834</td>\n",
       "      <td>0.127103</td>\n",
       "    </tr>\n",
       "    <tr>\n",
       "      <th>353</th>\n",
       "      <td>1.0</td>\n",
       "      <td>0.0</td>\n",
       "      <td>1.0</td>\n",
       "      <td>0.0</td>\n",
       "      <td>0.0</td>\n",
       "      <td>0.0</td>\n",
       "      <td>0.0</td>\n",
       "      <td>0.0</td>\n",
       "      <td>1.0</td>\n",
       "      <td>0.0</td>\n",
       "      <td>...</td>\n",
       "      <td>-0.389443</td>\n",
       "      <td>-0.228365</td>\n",
       "      <td>-0.168535</td>\n",
       "      <td>2.581526</td>\n",
       "      <td>-0.312607</td>\n",
       "      <td>-0.137969</td>\n",
       "      <td>-0.102882</td>\n",
       "      <td>-0.146273</td>\n",
       "      <td>-0.116834</td>\n",
       "      <td>-1.143297</td>\n",
       "    </tr>\n",
       "  </tbody>\n",
       "</table>\n",
       "<p>354 rows × 85 columns</p>\n",
       "</div>"
      ],
      "text/plain": [
       "      0    1    2    3    4    5    6    7    8    9   ...        75  \\\n",
       "0    1.0  0.0  1.0  0.0  0.0  0.0  0.0  0.0  1.0  0.0  ... -0.389443   \n",
       "1    0.0  1.0  1.0  0.0  0.0  0.0  0.0  0.0  1.0  0.0  ... -0.389443   \n",
       "2    1.0  0.0  1.0  0.0  0.0  0.0  0.0  0.0  1.0  0.0  ... -0.389443   \n",
       "3    1.0  0.0  1.0  0.0  0.0  0.0  0.0  0.0  1.0  0.0  ... -0.389443   \n",
       "4    1.0  0.0  1.0  0.0  0.0  0.0  0.0  0.0  1.0  0.0  ... -0.389443   \n",
       "..   ...  ...  ...  ...  ...  ...  ...  ...  ...  ...  ...       ...   \n",
       "349  0.0  1.0  1.0  0.0  0.0  0.0  0.0  0.0  1.0  0.0  ... -0.389443   \n",
       "350  1.0  0.0  1.0  0.0  0.0  0.0  0.0  0.0  1.0  0.0  ... -0.389443   \n",
       "351  1.0  0.0  1.0  0.0  0.0  0.0  0.0  0.0  1.0  0.0  ... -0.389443   \n",
       "352  1.0  0.0  1.0  0.0  0.0  0.0  0.0  0.0  1.0  0.0  ... -0.389443   \n",
       "353  1.0  0.0  1.0  0.0  0.0  0.0  0.0  0.0  1.0  0.0  ... -0.389443   \n",
       "\n",
       "           76        77        78        79        80        81        82  \\\n",
       "0   -0.228365 -0.168535 -0.217803 -0.312607 -0.137969 -0.102882 -0.146273   \n",
       "1   -0.228365 -0.168535 -0.217803 -0.312607 -0.137969 -0.102882 -0.146273   \n",
       "2   -0.228365 -0.168535  2.581526 -0.312607 -0.137969 -0.102882 -0.146273   \n",
       "3   -0.228365 -0.168535 -0.217803 -0.312607 -0.137969 -0.102882 -0.146273   \n",
       "4   -0.228365 -0.168535 -0.217803 -0.312607 -0.137969 -0.102882 -0.146273   \n",
       "..        ...       ...       ...       ...       ...       ...       ...   \n",
       "349 -0.228365 -0.168535 -0.217803  2.113625 -0.137969 -0.102882 -0.146273   \n",
       "350 -0.228365 -0.168535 -0.217803 -0.312607 -0.137969 -0.102882 -0.146273   \n",
       "351 -0.228365 -0.168535 -0.217803  4.539857 -0.137969 -0.102882 -0.146273   \n",
       "352 -0.228365 -0.168535 -0.217803 -0.312607 -0.137969 -0.102882 -0.146273   \n",
       "353 -0.228365 -0.168535  2.581526 -0.312607 -0.137969 -0.102882 -0.146273   \n",
       "\n",
       "           83        84  \n",
       "0   -0.116834 -1.143297  \n",
       "1   -0.116834 -1.397377  \n",
       "2   -0.116834 -1.397377  \n",
       "3   -0.116834  0.381184  \n",
       "4   -0.116834 -1.041665  \n",
       "..        ...       ...  \n",
       "349 -0.116834  0.889344  \n",
       "350 -0.116834  0.177919  \n",
       "351 -0.116834  0.279551  \n",
       "352 -0.116834  0.127103  \n",
       "353 -0.116834 -1.143297  \n",
       "\n",
       "[354 rows x 85 columns]"
      ]
     },
     "execution_count": 70,
     "metadata": {},
     "output_type": "execute_result"
    }
   ],
   "source": [
    "data_prepared_test = full_pipeline_nom.transform(X_test)\n",
    "\n",
    "X_test = pd.DataFrame(data_prepared_test)\n",
    "\n",
    "X_test"
   ]
  },
  {
   "cell_type": "markdown",
   "id": "95227cf6",
   "metadata": {},
   "source": [
    "## Train the models"
   ]
  },
  {
   "cell_type": "markdown",
   "id": "1792f85f",
   "metadata": {},
   "source": [
    "### Random Forest"
   ]
  },
  {
   "cell_type": "code",
   "execution_count": 73,
   "id": "476ae380",
   "metadata": {},
   "outputs": [
    {
     "data": {
      "text/plain": [
       "RandomForestClassifier(random_state=42)"
      ]
     },
     "execution_count": 73,
     "metadata": {},
     "output_type": "execute_result"
    }
   ],
   "source": [
    "from sklearn.ensemble import RandomForestClassifier\n",
    "from sklearn.metrics import confusion_matrix, classification_report\n",
    "\n",
    "rf_classifier = RandomForestClassifier(n_estimators=100, random_state=42)\n",
    "rf_classifier.fit(X_train, y_train)"
   ]
  },
  {
   "cell_type": "code",
   "execution_count": 75,
   "id": "28963555",
   "metadata": {},
   "outputs": [
    {
     "name": "stdout",
     "output_type": "stream",
     "text": [
      "[[692  53  11   2   8  10   2   7   3   0]\n",
      " [ 36 364   6   3  29   4   5   6   0   0]\n",
      " [ 20  25  98   2  15   2   1   2   1   0]\n",
      " [ 40   5   9  87   1   1   1   1   0   0]\n",
      " [  3  38   1   0  61   1   2   0   0   0]\n",
      " [ 29   7   1   2   0  56   3   1   1   0]\n",
      " [  7   9   0   1   3   0  57   1   2   0]\n",
      " [ 21  13   3   0   0   2   0  39   0   0]\n",
      " [ 12   6   4   3   1   0   1   1  49   0]\n",
      " [  7   0   0   0   0   1   2   0   1   1]]\n",
      "              precision    recall  f1-score   support\n",
      "\n",
      "           1       0.80      0.88      0.84       788\n",
      "           2       0.70      0.80      0.75       453\n",
      "           3       0.74      0.59      0.66       166\n",
      "           4       0.87      0.60      0.71       145\n",
      "           5       0.52      0.58      0.54       106\n",
      "           6       0.73      0.56      0.63       100\n",
      "           7       0.77      0.71      0.74        80\n",
      "           8       0.67      0.50      0.57        78\n",
      "           9       0.86      0.64      0.73        77\n",
      "          10       1.00      0.08      0.15        12\n",
      "\n",
      "    accuracy                           0.75      2005\n",
      "   macro avg       0.77      0.59      0.63      2005\n",
      "weighted avg       0.76      0.75      0.74      2005\n",
      "\n"
     ]
    }
   ],
   "source": [
    "y_train_pred = rf_classifier.predict(X_train)\n",
    "\n",
    "conf_matrix = confusion_matrix(y_train, y_train_pred)\n",
    "class_report = classification_report(y_train, y_train_pred)\n",
    "\n",
    "print(conf_matrix)\n",
    "print(class_report)"
   ]
  },
  {
   "cell_type": "code",
   "execution_count": 76,
   "id": "a7bea38a",
   "metadata": {
    "scrolled": true
   },
   "outputs": [
    {
     "name": "stdout",
     "output_type": "stream",
     "text": [
      "[[83 21 11  7  4  6  4  2  1  0]\n",
      " [10 32 10  3 11  2  4  5  3  0]\n",
      " [10  6  4  2  0  2  0  2  3  0]\n",
      " [ 8  3  2  8  0  2  1  1  0  0]\n",
      " [ 1  9  1  0  8  0  0  0  0  0]\n",
      " [12  4  0  0  0  1  0  0  1  0]\n",
      " [ 6  4  0  1  1  0  1  0  1  0]\n",
      " [ 8  3  2  1  0  0  0  0  0  0]\n",
      " [ 4  1  3  1  0  1  1  0  3  0]\n",
      " [ 2  0  0  0  0  0  0  0  0  0]]\n",
      "              precision    recall  f1-score   support\n",
      "\n",
      "           1       0.58      0.60      0.59       139\n",
      "           2       0.39      0.40      0.39        80\n",
      "           3       0.12      0.14      0.13        29\n",
      "           4       0.35      0.32      0.33        25\n",
      "           5       0.33      0.42      0.37        19\n",
      "           6       0.07      0.06      0.06        18\n",
      "           7       0.09      0.07      0.08        14\n",
      "           8       0.00      0.00      0.00        14\n",
      "           9       0.25      0.21      0.23        14\n",
      "          10       0.00      0.00      0.00         2\n",
      "\n",
      "    accuracy                           0.40       354\n",
      "   macro avg       0.22      0.22      0.22       354\n",
      "weighted avg       0.38      0.40      0.39       354\n",
      "\n"
     ]
    },
    {
     "name": "stderr",
     "output_type": "stream",
     "text": [
      "/Users/kazuma/opt/anaconda3/lib/python3.9/site-packages/sklearn/metrics/_classification.py:1318: UndefinedMetricWarning: Precision and F-score are ill-defined and being set to 0.0 in labels with no predicted samples. Use `zero_division` parameter to control this behavior.\n",
      "  _warn_prf(average, modifier, msg_start, len(result))\n",
      "/Users/kazuma/opt/anaconda3/lib/python3.9/site-packages/sklearn/metrics/_classification.py:1318: UndefinedMetricWarning: Precision and F-score are ill-defined and being set to 0.0 in labels with no predicted samples. Use `zero_division` parameter to control this behavior.\n",
      "  _warn_prf(average, modifier, msg_start, len(result))\n",
      "/Users/kazuma/opt/anaconda3/lib/python3.9/site-packages/sklearn/metrics/_classification.py:1318: UndefinedMetricWarning: Precision and F-score are ill-defined and being set to 0.0 in labels with no predicted samples. Use `zero_division` parameter to control this behavior.\n",
      "  _warn_prf(average, modifier, msg_start, len(result))\n"
     ]
    }
   ],
   "source": [
    "y_test_pred = rf_classifier.predict(X_test)\n",
    "\n",
    "conf_matrix = confusion_matrix(y_test, y_test_pred)\n",
    "class_report = classification_report(y_test, y_test_pred)\n",
    "\n",
    "print(conf_matrix)\n",
    "print(class_report)"
   ]
  },
  {
   "cell_type": "markdown",
   "id": "675834f9",
   "metadata": {},
   "source": [
    "### SVM"
   ]
  },
  {
   "cell_type": "code",
   "execution_count": 79,
   "id": "f4f2b569",
   "metadata": {},
   "outputs": [
    {
     "data": {
      "text/plain": [
       "SVC(kernel='linear', random_state=42)"
      ]
     },
     "execution_count": 79,
     "metadata": {},
     "output_type": "execute_result"
    }
   ],
   "source": [
    "from sklearn.svm import SVC\n",
    "svm_classifier = SVC(kernel='linear', random_state=42)\n",
    "svm_classifier.fit(X_train, y_train)"
   ]
  },
  {
   "cell_type": "code",
   "execution_count": 80,
   "id": "6b433aa3",
   "metadata": {},
   "outputs": [
    {
     "name": "stdout",
     "output_type": "stream",
     "text": [
      "[[604 167   5  12   0   0   0   0   0   0]\n",
      " [ 76 372   3   1   1   0   0   0   0   0]\n",
      " [ 83  64  14   4   1   0   0   0   0   0]\n",
      " [ 94  20   0  31   0   0   0   0   0   0]\n",
      " [  2 104   0   0   0   0   0   0   0   0]\n",
      " [ 76  20   0   3   0   1   0   0   0   0]\n",
      " [ 46  29   3   2   0   0   0   0   0   0]\n",
      " [ 43  30   3   1   0   0   0   1   0   0]\n",
      " [ 55  21   1   0   0   0   0   0   0   0]\n",
      " [ 11   1   0   0   0   0   0   0   0   0]]\n",
      "              precision    recall  f1-score   support\n",
      "\n",
      "           1       0.55      0.77      0.64       788\n",
      "           2       0.45      0.82      0.58       453\n",
      "           3       0.48      0.08      0.14       166\n",
      "           4       0.57      0.21      0.31       145\n",
      "           5       0.00      0.00      0.00       106\n",
      "           6       1.00      0.01      0.02       100\n",
      "           7       0.00      0.00      0.00        80\n",
      "           8       1.00      0.01      0.03        78\n",
      "           9       0.00      0.00      0.00        77\n",
      "          10       0.00      0.00      0.00        12\n",
      "\n",
      "    accuracy                           0.51      2005\n",
      "   macro avg       0.41      0.19      0.17      2005\n",
      "weighted avg       0.49      0.51      0.42      2005\n",
      "\n"
     ]
    },
    {
     "name": "stderr",
     "output_type": "stream",
     "text": [
      "/Users/kazuma/opt/anaconda3/lib/python3.9/site-packages/sklearn/metrics/_classification.py:1318: UndefinedMetricWarning: Precision and F-score are ill-defined and being set to 0.0 in labels with no predicted samples. Use `zero_division` parameter to control this behavior.\n",
      "  _warn_prf(average, modifier, msg_start, len(result))\n",
      "/Users/kazuma/opt/anaconda3/lib/python3.9/site-packages/sklearn/metrics/_classification.py:1318: UndefinedMetricWarning: Precision and F-score are ill-defined and being set to 0.0 in labels with no predicted samples. Use `zero_division` parameter to control this behavior.\n",
      "  _warn_prf(average, modifier, msg_start, len(result))\n",
      "/Users/kazuma/opt/anaconda3/lib/python3.9/site-packages/sklearn/metrics/_classification.py:1318: UndefinedMetricWarning: Precision and F-score are ill-defined and being set to 0.0 in labels with no predicted samples. Use `zero_division` parameter to control this behavior.\n",
      "  _warn_prf(average, modifier, msg_start, len(result))\n"
     ]
    }
   ],
   "source": [
    "y_train_pred = svm_classifier.predict(X_train)\n",
    "\n",
    "conf_matrix = confusion_matrix(y_train, y_train_pred)\n",
    "class_report = classification_report(y_train, y_train_pred)\n",
    "\n",
    "print(conf_matrix)\n",
    "print(class_report)"
   ]
  },
  {
   "cell_type": "code",
   "execution_count": 81,
   "id": "15d4b015",
   "metadata": {},
   "outputs": [
    {
     "name": "stdout",
     "output_type": "stream",
     "text": [
      "[[99 35  1  4  0  0  0  0  0  0]\n",
      " [19 59  2  0  0  0  0  0  0  0]\n",
      " [17 11  1  0  0  0  0  0  0  0]\n",
      " [14  5  1  5  0  0  0  0  0  0]\n",
      " [ 0 19  0  0  0  0  0  0  0  0]\n",
      " [13  4  0  1  0  0  0  0  0  0]\n",
      " [ 8  5  0  0  0  1  0  0  0  0]\n",
      " [ 9  4  1  0  0  0  0  0  0  0]\n",
      " [11  3  0  0  0  0  0  0  0  0]\n",
      " [ 2  0  0  0  0  0  0  0  0  0]]\n",
      "              precision    recall  f1-score   support\n",
      "\n",
      "           1       0.52      0.71      0.60       139\n",
      "           2       0.41      0.74      0.52        80\n",
      "           3       0.17      0.03      0.06        29\n",
      "           4       0.50      0.20      0.29        25\n",
      "           5       0.00      0.00      0.00        19\n",
      "           6       0.00      0.00      0.00        18\n",
      "           7       0.00      0.00      0.00        14\n",
      "           8       0.00      0.00      0.00        14\n",
      "           9       0.00      0.00      0.00        14\n",
      "          10       0.00      0.00      0.00         2\n",
      "\n",
      "    accuracy                           0.46       354\n",
      "   macro avg       0.16      0.17      0.15       354\n",
      "weighted avg       0.34      0.46      0.38       354\n",
      "\n"
     ]
    },
    {
     "name": "stderr",
     "output_type": "stream",
     "text": [
      "/Users/kazuma/opt/anaconda3/lib/python3.9/site-packages/sklearn/metrics/_classification.py:1318: UndefinedMetricWarning: Precision and F-score are ill-defined and being set to 0.0 in labels with no predicted samples. Use `zero_division` parameter to control this behavior.\n",
      "  _warn_prf(average, modifier, msg_start, len(result))\n",
      "/Users/kazuma/opt/anaconda3/lib/python3.9/site-packages/sklearn/metrics/_classification.py:1318: UndefinedMetricWarning: Precision and F-score are ill-defined and being set to 0.0 in labels with no predicted samples. Use `zero_division` parameter to control this behavior.\n",
      "  _warn_prf(average, modifier, msg_start, len(result))\n",
      "/Users/kazuma/opt/anaconda3/lib/python3.9/site-packages/sklearn/metrics/_classification.py:1318: UndefinedMetricWarning: Precision and F-score are ill-defined and being set to 0.0 in labels with no predicted samples. Use `zero_division` parameter to control this behavior.\n",
      "  _warn_prf(average, modifier, msg_start, len(result))\n"
     ]
    }
   ],
   "source": [
    "y_test_pred = svm_classifier.predict(X_test)\n",
    "\n",
    "conf_matrix = confusion_matrix(y_test, y_test_pred)\n",
    "class_report = classification_report(y_test, y_test_pred)\n",
    "\n",
    "print(conf_matrix)\n",
    "print(class_report)"
   ]
  },
  {
   "cell_type": "markdown",
   "id": "44a9b7f8",
   "metadata": {},
   "source": [
    "### GBM"
   ]
  },
  {
   "cell_type": "code",
   "execution_count": 82,
   "id": "82d3e9ce",
   "metadata": {},
   "outputs": [
    {
     "data": {
      "text/plain": [
       "GradientBoostingClassifier(random_state=42)"
      ]
     },
     "execution_count": 82,
     "metadata": {},
     "output_type": "execute_result"
    }
   ],
   "source": [
    "from sklearn.ensemble import GradientBoostingClassifier\n",
    "gbm_classifier = GradientBoostingClassifier(n_estimators=100, random_state=42)\n",
    "gbm_classifier.fit(X_train, y_train)"
   ]
  },
  {
   "cell_type": "code",
   "execution_count": 83,
   "id": "acbe8bd1",
   "metadata": {},
   "outputs": [
    {
     "name": "stdout",
     "output_type": "stream",
     "text": [
      "[[647 110  13  11   0   2   2   0   3   0]\n",
      " [ 71 370   6   1   0   0   2   0   3   0]\n",
      " [ 58  58  42   5   0   2   1   0   0   0]\n",
      " [ 67  15   3  59   0   0   0   0   1   0]\n",
      " [ 22  77   0   0   7   0   0   0   0   0]\n",
      " [ 60  13   0   4   0  19   2   1   1   0]\n",
      " [ 25  23   1   1   0   0  24   0   5   1]\n",
      " [ 34  31   2   1   0   0   0  10   0   0]\n",
      " [ 29  14   3   0   0   0   1   0  29   1]\n",
      " [  8   0   0   0   0   0   0   0   1   3]]\n",
      "              precision    recall  f1-score   support\n",
      "\n",
      "           1       0.63      0.82      0.72       788\n",
      "           2       0.52      0.82      0.64       453\n",
      "           3       0.60      0.25      0.36       166\n",
      "           4       0.72      0.41      0.52       145\n",
      "           5       1.00      0.07      0.12       106\n",
      "           6       0.83      0.19      0.31       100\n",
      "           7       0.75      0.30      0.43        80\n",
      "           8       0.91      0.13      0.22        78\n",
      "           9       0.67      0.38      0.48        77\n",
      "          10       0.60      0.25      0.35        12\n",
      "\n",
      "    accuracy                           0.60      2005\n",
      "   macro avg       0.72      0.36      0.41      2005\n",
      "weighted avg       0.66      0.60      0.56      2005\n",
      "\n"
     ]
    }
   ],
   "source": [
    "y_train_pred = gbm_classifier.predict(X_train)\n",
    "\n",
    "conf_matrix = confusion_matrix(y_train, y_train_pred)\n",
    "class_report = classification_report(y_train, y_train_pred)\n",
    "\n",
    "print(conf_matrix)\n",
    "print(class_report)"
   ]
  },
  {
   "cell_type": "code",
   "execution_count": 84,
   "id": "42ae22ef",
   "metadata": {},
   "outputs": [
    {
     "name": "stdout",
     "output_type": "stream",
     "text": [
      "[[94 31  2  4  0  2  3  1  2  0]\n",
      " [19 52  3  2  1  0  2  0  1  0]\n",
      " [12 10  5  2  0  0  0  0  0  0]\n",
      " [12  3  1  7  0  2  0  0  0  0]\n",
      " [ 3 16  0  0  0  0  0  0  0  0]\n",
      " [14  3  1  0  0  0  0  0  0  0]\n",
      " [ 6  5  1  0  0  0  0  0  2  0]\n",
      " [ 7  5  2  0  0  0  0  0  0  0]\n",
      " [ 5  2  1  0  0  0  1  0  3  2]\n",
      " [ 2  0  0  0  0  0  0  0  0  0]]\n",
      "              precision    recall  f1-score   support\n",
      "\n",
      "           1       0.54      0.68      0.60       139\n",
      "           2       0.41      0.65      0.50        80\n",
      "           3       0.31      0.17      0.22        29\n",
      "           4       0.47      0.28      0.35        25\n",
      "           5       0.00      0.00      0.00        19\n",
      "           6       0.00      0.00      0.00        18\n",
      "           7       0.00      0.00      0.00        14\n",
      "           8       0.00      0.00      0.00        14\n",
      "           9       0.38      0.21      0.27        14\n",
      "          10       0.00      0.00      0.00         2\n",
      "\n",
      "    accuracy                           0.45       354\n",
      "   macro avg       0.21      0.20      0.19       354\n",
      "weighted avg       0.38      0.45      0.40       354\n",
      "\n"
     ]
    }
   ],
   "source": [
    "y_test_pred = gbm_classifier.predict(X_test)\n",
    "\n",
    "conf_matrix = confusion_matrix(y_test, y_test_pred)\n",
    "class_report = classification_report(y_test, y_test_pred)\n",
    "\n",
    "print(conf_matrix)\n",
    "print(class_report)"
   ]
  },
  {
   "cell_type": "markdown",
   "id": "126c308f",
   "metadata": {},
   "source": [
    "### KNN"
   ]
  },
  {
   "cell_type": "code",
   "execution_count": 86,
   "id": "cd6d153b",
   "metadata": {},
   "outputs": [
    {
     "data": {
      "text/plain": [
       "KNeighborsClassifier()"
      ]
     },
     "execution_count": 86,
     "metadata": {},
     "output_type": "execute_result"
    }
   ],
   "source": [
    "from sklearn.neighbors import KNeighborsClassifier\n",
    "knn_classifier = KNeighborsClassifier(n_neighbors=5)\n",
    "knn_classifier.fit(X_train, y_train)"
   ]
  },
  {
   "cell_type": "code",
   "execution_count": 87,
   "id": "abde19ec",
   "metadata": {},
   "outputs": [
    {
     "name": "stdout",
     "output_type": "stream",
     "text": [
      "[[680  64  13   6  10   9   3   2   1   0]\n",
      " [112 307   6   2  20   3   2   0   1   0]\n",
      " [ 62  39  38   4  12   3   2   3   3   0]\n",
      " [ 82  15   5  36   3   0   2   1   1   0]\n",
      " [  9  62   1   0  32   0   2   0   0   0]\n",
      " [ 67   8   4   4   1  12   2   1   1   0]\n",
      " [ 34  19   4   4   2   0  16   0   1   0]\n",
      " [ 44  21   7   0   0   2   1   3   0   0]\n",
      " [ 39  14   3   3   2   1   7   0   8   0]\n",
      " [  7   0   0   0   0   1   3   0   1   0]]\n",
      "              precision    recall  f1-score   support\n",
      "\n",
      "           1       0.60      0.86      0.71       788\n",
      "           2       0.56      0.68      0.61       453\n",
      "           3       0.47      0.23      0.31       166\n",
      "           4       0.61      0.25      0.35       145\n",
      "           5       0.39      0.30      0.34       106\n",
      "           6       0.39      0.12      0.18       100\n",
      "           7       0.40      0.20      0.27        80\n",
      "           8       0.30      0.04      0.07        78\n",
      "           9       0.47      0.10      0.17        77\n",
      "          10       0.00      0.00      0.00        12\n",
      "\n",
      "    accuracy                           0.56      2005\n",
      "   macro avg       0.42      0.28      0.30      2005\n",
      "weighted avg       0.53      0.56      0.51      2005\n",
      "\n"
     ]
    },
    {
     "name": "stderr",
     "output_type": "stream",
     "text": [
      "/Users/kazuma/opt/anaconda3/lib/python3.9/site-packages/sklearn/metrics/_classification.py:1318: UndefinedMetricWarning: Precision and F-score are ill-defined and being set to 0.0 in labels with no predicted samples. Use `zero_division` parameter to control this behavior.\n",
      "  _warn_prf(average, modifier, msg_start, len(result))\n",
      "/Users/kazuma/opt/anaconda3/lib/python3.9/site-packages/sklearn/metrics/_classification.py:1318: UndefinedMetricWarning: Precision and F-score are ill-defined and being set to 0.0 in labels with no predicted samples. Use `zero_division` parameter to control this behavior.\n",
      "  _warn_prf(average, modifier, msg_start, len(result))\n",
      "/Users/kazuma/opt/anaconda3/lib/python3.9/site-packages/sklearn/metrics/_classification.py:1318: UndefinedMetricWarning: Precision and F-score are ill-defined and being set to 0.0 in labels with no predicted samples. Use `zero_division` parameter to control this behavior.\n",
      "  _warn_prf(average, modifier, msg_start, len(result))\n"
     ]
    }
   ],
   "source": [
    "y_train_pred = knn_classifier.predict(X_train)\n",
    "\n",
    "conf_matrix = confusion_matrix(y_train, y_train_pred)\n",
    "class_report = classification_report(y_train, y_train_pred)\n",
    "\n",
    "print(conf_matrix)\n",
    "print(class_report)"
   ]
  },
  {
   "cell_type": "code",
   "execution_count": 88,
   "id": "b992c892",
   "metadata": {},
   "outputs": [
    {
     "name": "stdout",
     "output_type": "stream",
     "text": [
      "[[107  17   4   3   3   3   1   1   0   0]\n",
      " [ 25  32   5   2  10   2   2   1   1   0]\n",
      " [ 11   9   3   4   0   0   0   1   1   0]\n",
      " [ 11   5   3   5   1   0   0   0   0   0]\n",
      " [  1  13   1   0   4   0   0   0   0   0]\n",
      " [ 11   2   0   1   1   1   1   1   0   0]\n",
      " [  9   3   0   0   1   0   0   0   1   0]\n",
      " [ 10   2   2   0   0   0   0   0   0   0]\n",
      " [  7   1   1   0   0   1   1   0   3   0]\n",
      " [  2   0   0   0   0   0   0   0   0   0]]\n",
      "              precision    recall  f1-score   support\n",
      "\n",
      "           1       0.55      0.77      0.64       139\n",
      "           2       0.38      0.40      0.39        80\n",
      "           3       0.16      0.10      0.12        29\n",
      "           4       0.33      0.20      0.25        25\n",
      "           5       0.20      0.21      0.21        19\n",
      "           6       0.14      0.06      0.08        18\n",
      "           7       0.00      0.00      0.00        14\n",
      "           8       0.00      0.00      0.00        14\n",
      "           9       0.50      0.21      0.30        14\n",
      "          10       0.00      0.00      0.00         2\n",
      "\n",
      "    accuracy                           0.44       354\n",
      "   macro avg       0.23      0.20      0.20       354\n",
      "weighted avg       0.38      0.44      0.40       354\n",
      "\n"
     ]
    },
    {
     "name": "stderr",
     "output_type": "stream",
     "text": [
      "/Users/kazuma/opt/anaconda3/lib/python3.9/site-packages/sklearn/metrics/_classification.py:1318: UndefinedMetricWarning: Precision and F-score are ill-defined and being set to 0.0 in labels with no predicted samples. Use `zero_division` parameter to control this behavior.\n",
      "  _warn_prf(average, modifier, msg_start, len(result))\n",
      "/Users/kazuma/opt/anaconda3/lib/python3.9/site-packages/sklearn/metrics/_classification.py:1318: UndefinedMetricWarning: Precision and F-score are ill-defined and being set to 0.0 in labels with no predicted samples. Use `zero_division` parameter to control this behavior.\n",
      "  _warn_prf(average, modifier, msg_start, len(result))\n",
      "/Users/kazuma/opt/anaconda3/lib/python3.9/site-packages/sklearn/metrics/_classification.py:1318: UndefinedMetricWarning: Precision and F-score are ill-defined and being set to 0.0 in labels with no predicted samples. Use `zero_division` parameter to control this behavior.\n",
      "  _warn_prf(average, modifier, msg_start, len(result))\n"
     ]
    }
   ],
   "source": [
    "y_test_pred = knn_classifier.predict(X_test)\n",
    "\n",
    "conf_matrix = confusion_matrix(y_test, y_test_pred)\n",
    "class_report = classification_report(y_test, y_test_pred)\n",
    "\n",
    "print(conf_matrix)\n",
    "print(class_report)"
   ]
  }
 ],
 "metadata": {
  "kernelspec": {
   "display_name": "Python 3 (ipykernel)",
   "language": "python",
   "name": "python3"
  },
  "language_info": {
   "codemirror_mode": {
    "name": "ipython",
    "version": 3
   },
   "file_extension": ".py",
   "mimetype": "text/x-python",
   "name": "python",
   "nbconvert_exporter": "python",
   "pygments_lexer": "ipython3",
   "version": "3.9.12"
  }
 },
 "nbformat": 4,
 "nbformat_minor": 5
}
